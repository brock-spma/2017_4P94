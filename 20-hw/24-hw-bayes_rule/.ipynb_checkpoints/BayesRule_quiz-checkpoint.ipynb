{
 "cells": [
  {
   "cell_type": "markdown",
   "metadata": {},
   "source": [
    "## In-class homework quiz\n",
    "* Add markdown and code cells to answer the following question.\n",
    "* Use of class notes and internet searches are permittied.\n",
    "* Collaboration is not permitted\n",
    "* Duration: 30 minutes.\n",
    "* Upload notebook file (ipynb) to LMS.\n",
    "* Solutions are graded on analysis (4) and code development (5).\n",
    "* Restart the kernel and run all cells prior to submission."
   ]
  },
  {
   "cell_type": "markdown",
   "metadata": {},
   "source": [
    "### Question 1\n",
    "Consider the following application of Bayes' rule to calculate the conditional probability that a shot results in a goal given the score differential state,\n",
    "\n",
    "$$p(g_s| X_s) = \\frac{p(X_s|g_s) p(g_s)}{ p(X_s | g_s) p(g_s) +  p(X_s | \\overline{g_s}) p( \\overline{g_s}) }$$\n",
    "\n",
    "where $X_s$ is the score differential from -3 to -3. "
   ]
  },
  {
   "cell_type": "markdown",
   "metadata": {},
   "source": [
    "### Question 1a\n",
    "Explain following terms:\n",
    "* $p\\left( g_s| X_s \\right)$\n",
    "* $p\\left( g_s \\right)$\n",
    "* $p\\left( \\overline{g_s} \\right)$\n",
    "* $p\\left( X_s|g_s \\right)$\n",
    "* $p\\left( X_s| \\overline{g_s} \\right)$"
   ]
  },
  {
   "cell_type": "markdown",
   "metadata": {},
   "source": [
    "### Question 1b\n",
    "Use Bayes Rule to calculate the conditional probabilities that a shot results in a goal given a team is leading by two or more goals."
   ]
  },
  {
   "cell_type": "code",
   "execution_count": 7,
   "metadata": {},
   "outputs": [],
   "source": [
    "%matplotlib inline\n",
    "import os\n",
    "import sys\n",
    "import pandas\n",
    "import numpy\n",
    "import matplotlib\n",
    "import matplotlib.pyplot as plt\n",
    "\n",
    "pandas.set_option('display.notebook_repr_html', True)\n",
    "pandas.set_option('display.max_columns', 20)\n",
    "pandas.set_option('display.max_rows', 25)\n",
    "pandas.options.display.float_format = '{:,.2f}'.format"
   ]
  },
  {
   "cell_type": "code",
   "execution_count": 11,
   "metadata": {},
   "outputs": [
    {
     "data": {
      "text/html": [
       "<div>\n",
       "<style>\n",
       "    .dataframe thead tr:only-child th {\n",
       "        text-align: right;\n",
       "    }\n",
       "\n",
       "    .dataframe thead th {\n",
       "        text-align: left;\n",
       "    }\n",
       "\n",
       "    .dataframe tbody tr th {\n",
       "        vertical-align: top;\n",
       "    }\n",
       "</style>\n",
       "<table border=\"1\" class=\"dataframe\">\n",
       "  <thead>\n",
       "    <tr style=\"text-align: right;\">\n",
       "      <th></th>\n",
       "      <th>season</th>\n",
       "      <th>gamenumber</th>\n",
       "      <th>eventnumber</th>\n",
       "      <th>period</th>\n",
       "      <th>eventtimefromzero</th>\n",
       "      <th>tgoals</th>\n",
       "      <th>ogoals</th>\n",
       "      <th>eventtype</th>\n",
       "      <th>shotType</th>\n",
       "    </tr>\n",
       "  </thead>\n",
       "  <tbody>\n",
       "    <tr>\n",
       "      <th>0</th>\n",
       "      <td>2011</td>\n",
       "      <td>20001</td>\n",
       "      <td>4</td>\n",
       "      <td>1</td>\n",
       "      <td>47</td>\n",
       "      <td>0</td>\n",
       "      <td>0</td>\n",
       "      <td>SHOT</td>\n",
       "      <td>Snap</td>\n",
       "    </tr>\n",
       "    <tr>\n",
       "      <th>1</th>\n",
       "      <td>2011</td>\n",
       "      <td>20001</td>\n",
       "      <td>9</td>\n",
       "      <td>1</td>\n",
       "      <td>114</td>\n",
       "      <td>0</td>\n",
       "      <td>0</td>\n",
       "      <td>SHOT</td>\n",
       "      <td>Snap</td>\n",
       "    </tr>\n",
       "    <tr>\n",
       "      <th>2</th>\n",
       "      <td>2011</td>\n",
       "      <td>20001</td>\n",
       "      <td>14</td>\n",
       "      <td>1</td>\n",
       "      <td>138</td>\n",
       "      <td>0</td>\n",
       "      <td>0</td>\n",
       "      <td>SHOT</td>\n",
       "      <td>Snap</td>\n",
       "    </tr>\n",
       "    <tr>\n",
       "      <th>3</th>\n",
       "      <td>2011</td>\n",
       "      <td>20001</td>\n",
       "      <td>25</td>\n",
       "      <td>1</td>\n",
       "      <td>249</td>\n",
       "      <td>0</td>\n",
       "      <td>0</td>\n",
       "      <td>SHOT</td>\n",
       "      <td>Slap</td>\n",
       "    </tr>\n",
       "    <tr>\n",
       "      <th>4</th>\n",
       "      <td>2011</td>\n",
       "      <td>20001</td>\n",
       "      <td>29</td>\n",
       "      <td>1</td>\n",
       "      <td>297</td>\n",
       "      <td>0</td>\n",
       "      <td>0</td>\n",
       "      <td>SHOT</td>\n",
       "      <td>Wrist</td>\n",
       "    </tr>\n",
       "  </tbody>\n",
       "</table>\n",
       "</div>"
      ],
      "text/plain": [
       "   season  gamenumber  eventnumber  period  eventtimefromzero  tgoals  ogoals  \\\n",
       "0    2011       20001            4       1                 47       0       0   \n",
       "1    2011       20001            9       1                114       0       0   \n",
       "2    2011       20001           14       1                138       0       0   \n",
       "3    2011       20001           25       1                249       0       0   \n",
       "4    2011       20001           29       1                297       0       0   \n",
       "\n",
       "  eventtype shotType  \n",
       "0      SHOT     Snap  \n",
       "1      SHOT     Snap  \n",
       "2      SHOT     Snap  \n",
       "3      SHOT     Slap  \n",
       "4      SHOT    Wrist  "
      ]
     },
     "execution_count": 11,
     "metadata": {},
     "output_type": "execute_result"
    }
   ],
   "source": [
    "dm = pandas.read_csv('shots.csv')\n",
    "dm = dm[['season', 'gamenumber', 'eventnumber', 'period', 'eventtimefromzero', 'tgoals', 'ogoals', 'eventtype', 'shotType']]\n",
    "dm.head()"
   ]
  },
  {
   "cell_type": "code",
   "execution_count": null,
   "metadata": {},
   "outputs": [],
   "source": []
  }
 ],
 "metadata": {
  "kernelspec": {
   "display_name": "Python 3",
   "language": "python",
   "name": "python3"
  },
  "language_info": {
   "codemirror_mode": {
    "name": "ipython",
    "version": 3
   },
   "file_extension": ".py",
   "mimetype": "text/x-python",
   "name": "python",
   "nbconvert_exporter": "python",
   "pygments_lexer": "ipython3",
   "version": "3.6.3"
  }
 },
 "nbformat": 4,
 "nbformat_minor": 2
}
