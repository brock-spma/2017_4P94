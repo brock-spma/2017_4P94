{
 "cells": [
  {
   "cell_type": "markdown",
   "metadata": {},
   "source": [
    "# Homework\n",
    "\n",
    "1. Distribution analysis\n",
    "    - Use histograms to examine the distribution of MLB, NBA, and NFL player salaries\n",
    "    - Are the distributions similar? If not, explain any differences in words\n",
    "\n",
    "2. Salary comparison across leagues\n",
    "    - Which league do players, on average, have the highest salaries? \n",
    "    - Calculate the average (mean)  MLB, NBA, and NFL player salary\n",
    "    \n",
    "3. Salary comparison across positions\n",
    "    - What position do MLB players, on average, have the highest salaries? \n",
    "    - What position do NFL players, on average, have the highest salaries? \n",
    "    - What position do NBA players, on average, have the highest salaries? \n"
   ]
  },
  {
   "cell_type": "markdown",
   "metadata": {},
   "source": [
    "# modules\n",
    " - note, seaborn library may no be avaialbel on campus computers"
   ]
  },
  {
   "cell_type": "code",
   "execution_count": 10,
   "metadata": {},
   "outputs": [],
   "source": [
    "%matplotlib inline\n",
    "import os\n",
    "import sys\n",
    "import pandas\n",
    "import numpy\n",
    "import matplotlib\n",
    "import matplotlib.pyplot as plt\n",
    "import seaborn\n",
    "seaborn.set(color_codes=True)\n"
   ]
  },
  {
   "cell_type": "markdown",
   "metadata": {},
   "source": [
    "Set some Pandas options\n",
    "- congigure display option for your working environment and preferences"
   ]
  },
  {
   "cell_type": "code",
   "execution_count": 11,
   "metadata": {},
   "outputs": [],
   "source": [
    "pandas.set_option('display.notebook_repr_html', False)\n",
    "pandas.set_option('display.max_columns', 20)\n",
    "pandas.set_option('display.max_rows', 25)"
   ]
  },
  {
   "cell_type": "markdown",
   "metadata": {},
   "source": [
    "# Load data"
   ]
  },
  {
   "cell_type": "code",
   "execution_count": 12,
   "metadata": {
    "collapsed": true
   },
   "outputs": [],
   "source": [
    "dmlb = pandas.read_csv('mlb_player_salaries_2015.csv')\n",
    "dnba = pandas.read_csv('nba_player_salaries_2015.csv')\n",
    "dnfl = pandas.read_csv('nfl_player_salaries_2015.csv')"
   ]
  },
  {
   "cell_type": "markdown",
   "metadata": {},
   "source": [
    "MLB data"
   ]
  },
  {
   "cell_type": "code",
   "execution_count": 13,
   "metadata": {},
   "outputs": [
    {
     "data": {
      "text/plain": [
       "                         player position  team teamsignedwith   age  years  \\\n",
       "0   Miguel Cabrera (2016-2023)       1B   DET            DET   32.0      8   \n",
       "1  Clayton Kershaw (2014-2020)       SP   LAD            LAD   27.0      7   \n",
       "2     Max Scherzer (2015-2021)       SP   WSN            WSN   31.0      7   \n",
       "3   Alex Rodriguez (2008-2017)       DH   NYY            NYY   40.0     10   \n",
       "4       Jon Lester (2015-2020)       SP   CHC            CHC   31.0      6   \n",
       "\n",
       "    contract    salary  yearfreeagent  \n",
       "0  248000000  31000000           2024  \n",
       "1  215000000  30714286           2021  \n",
       "2  210000000  30000000           2022  \n",
       "3  275000000  27500000           2018  \n",
       "4  155000000  25833333           2021  "
      ]
     },
     "execution_count": 13,
     "metadata": {},
     "output_type": "execute_result"
    }
   ],
   "source": [
    "dmlb.head()"
   ]
  },
  {
   "cell_type": "markdown",
   "metadata": {},
   "source": [
    "NBA data"
   ]
  },
  {
   "cell_type": "code",
   "execution_count": 14,
   "metadata": {},
   "outputs": [
    {
     "data": {
      "text/plain": [
       "                         player position  team teamsignedwith  age  years  \\\n",
       "0    Anthony Davis (2016-2020)       PF   NOP            NOP    22      5   \n",
       "1  Carmelo Anthony (2014-2018)       SF   NYK            NYK    31      5   \n",
       "2      Kobe Bryant (2014-2015)       SG   LAL            LAL    36      2   \n",
       "3   Damian Lillard (2016-2020)       PG   POR            POR    25      5   \n",
       "4       Chris Bosh (2014-2018)        C   MIA            MIA    31      5   \n",
       "\n",
       "    contract guaranteed guaranteedpct    salary  yearfreeagent  \n",
       "0  145000000  145000000           100  29000000           2021  \n",
       "1  124064681  124064681           100  24812936           2019  \n",
       "2   48500000   48500000           100  24250000           2016  \n",
       "3  120502600  120502600           100  24100520           2021  \n",
       "4  118705300  118705300           100  23741060           2019  "
      ]
     },
     "execution_count": 14,
     "metadata": {},
     "output_type": "execute_result"
    }
   ],
   "source": [
    "dnba.head()"
   ]
  },
  {
   "cell_type": "markdown",
   "metadata": {},
   "source": [
    "NFL data"
   ]
  },
  {
   "cell_type": "code",
   "execution_count": 15,
   "metadata": {},
   "outputs": [
    {
     "data": {
      "text/plain": [
       "                           player position  team teamsignedwith  age  years  \\\n",
       "0       Aaron Rodgers (20132019)       QB    GB             GB    31      5   \n",
       "1      Russell Wilson (20152019)       QB   SEA            SEA    26      4   \n",
       "2  Ben Roethlisberger (20152019)       QB   PIT            PIT    33      4   \n",
       "3          Cam Newton (20152020)       QB   CAR            CAR    26      5   \n",
       "4           Matt Ryan (20132018)       QB   ATL            ATL    30      5   \n",
       "\n",
       "    contract    salary guaranteed guaranteedpct  yearfreeagent  \n",
       "0  110000000  22000000   54000000         49.09           2020  \n",
       "1   87600000  21900000   61542000         70.25           2020  \n",
       "2   87400000  21850000   31000000         35.47           2020  \n",
       "3  103800000  20760000   60000000          57.8           2021  \n",
       "4  103750000  20750000   42000000         40.48           2019  "
      ]
     },
     "execution_count": 15,
     "metadata": {},
     "output_type": "execute_result"
    }
   ],
   "source": [
    "dnfl.head()"
   ]
  },
  {
   "cell_type": "markdown",
   "metadata": {},
   "source": [
    "1. Distribution analysis\n",
    "\n",
    "    - Are the distributions similar? If not, explain any differences in words"
   ]
  },
  {
   "cell_type": "code",
   "execution_count": 16,
   "metadata": {},
   "outputs": [
    {
     "data": {
      "image/png": "[encoded data removed]",
      "text/plain": [
       "<matplotlib.figure.Figure at 0x18b583b36a0>"
      ]
     },
     "metadata": {},
     "output_type": "display_data"
    }
   ],
   "source": [
    "plt.hist(dmlb['salary'], bins=7)\n",
    "plt.title(\"MLB payroll distribution\")\n",
    "plt.xlabel(\"payroll in millions of dollars\")\n",
    "plt.ylabel(\"Frequency\")\n",
    "plt.show()"
   ]
  },
  {
   "cell_type": "code",
   "execution_count": 17,
   "metadata": {},
   "outputs": [
    {
     "data": {
      "image/png": "[encoded data removed]",
      "text/plain": [
       "<matplotlib.figure.Figure at 0x18b583adf28>"
      ]
     },
     "metadata": {},
     "output_type": "display_data"
    }
   ],
   "source": [
    "plt.hist(dnba['salary'], bins=7)\n",
    "plt.title(\"NBA payroll distribution\")\n",
    "plt.xlabel(\"payroll in millions of dollars\")\n",
    "plt.ylabel(\"Frequency\")\n",
    "plt.show()"
   ]
  },
  {
   "cell_type": "code",
   "execution_count": 18,
   "metadata": {},
   "outputs": [
    {
     "data": {
      "image/png": "[encoded data removed]",
      "text/plain": [
       "<matplotlib.figure.Figure at 0x18b583d78d0>"
      ]
     },
     "metadata": {},
     "output_type": "display_data"
    }
   ],
   "source": [
    "plt.hist(dnfl['salary'], bins=7)\n",
    "plt.title(\"NFL payroll distribution\")\n",
    "plt.xlabel(\"payroll in millions of dollars\")\n",
    "plt.ylabel(\"Frequency\")\n",
    "plt.show()"
   ]
  },
  {
   "cell_type": "markdown",
   "metadata": {},
   "source": [
    "The distributions of payroll are skewed in each league. The NFL's is the most skewed and the NBA is the least."
   ]
  },
  {
   "cell_type": "markdown",
   "metadata": {},
   "source": [
    "2. Salary comparison across leagues\n",
    "    - Which league do players, on average, have the highest salaries? \n",
    "    - Calculate the average (mean)  MLB, NBA, and NFL player salary\n"
   ]
  },
  {
   "cell_type": "markdown",
   "metadata": {},
   "source": [
    "MLB:"
   ]
  },
  {
   "cell_type": "code",
   "execution_count": 19,
   "metadata": {},
   "outputs": [
    {
     "data": {
      "text/plain": [
       "4135897.0"
      ]
     },
     "execution_count": 19,
     "metadata": {},
     "output_type": "execute_result"
    }
   ],
   "source": [
    "round(numpy.mean(dmlb['salary']), 2)"
   ]
  },
  {
   "cell_type": "markdown",
   "metadata": {},
   "source": [
    "NBA:"
   ]
  },
  {
   "cell_type": "code",
   "execution_count": 20,
   "metadata": {},
   "outputs": [
    {
     "data": {
      "text/plain": [
       "5107176.44"
      ]
     },
     "execution_count": 20,
     "metadata": {},
     "output_type": "execute_result"
    }
   ],
   "source": [
    "round(numpy.mean(dnba['salary']), 2)"
   ]
  },
  {
   "cell_type": "markdown",
   "metadata": {},
   "source": [
    "NFL:"
   ]
  },
  {
   "cell_type": "code",
   "execution_count": 21,
   "metadata": {},
   "outputs": [
    {
     "data": {
      "text/plain": [
       "1711054.57"
      ]
     },
     "execution_count": 21,
     "metadata": {},
     "output_type": "execute_result"
    }
   ],
   "source": [
    "round(numpy.mean(dnfl['salary']), 2)"
   ]
  },
  {
   "cell_type": "markdown",
   "metadata": {},
   "source": [
    "The NBA, on average, has the highest paid players with an average salary of $5,107,176."
   ]
  },
  {
   "cell_type": "markdown",
   "metadata": {},
   "source": [
    "3. Salary comparasons across positions\n",
    "    - What position do MLB players, on average, have the highest salaries? \n",
    "    - What position do NFL players, on average, have the highest salaries? \n",
    "    - What position do NBA players, on average, have the highest salaries? "
   ]
  },
  {
   "cell_type": "markdown",
   "metadata": {},
   "source": [
    "MLB:"
   ]
  },
  {
   "cell_type": "code",
   "execution_count": 25,
   "metadata": {},
   "outputs": [
    {
     "data": {
      "text/plain": [
       "position\n",
       "1B     8.578868e+06\n",
       "2B     3.529067e+06\n",
       "3B     4.858063e+06\n",
       "C      2.633494e+06\n",
       "CF     4.310227e+06\n",
       "CL     1.038333e+06\n",
       "DH     9.289682e+06\n",
       "LF     4.449357e+06\n",
       "OF     5.075000e+05\n",
       "RF     6.607214e+06\n",
       "RP     1.938351e+06\n",
       "SP     5.865431e+06\n",
       "SS     3.309571e+06\n",
       "Name: salary, dtype: float64"
      ]
     },
     "execution_count": 25,
     "metadata": {},
     "output_type": "execute_result"
    }
   ],
   "source": [
    "dmlb.groupby(['position'])['salary'].mean()"
   ]
  },
  {
   "cell_type": "markdown",
   "metadata": {},
   "source": [
    "NBA:"
   ]
  },
  {
   "cell_type": "code",
   "execution_count": 26,
   "metadata": {},
   "outputs": [
    {
     "data": {
      "text/plain": [
       "position\n",
       "1B     8.578868e+06\n",
       "2B     3.529067e+06\n",
       "3B     4.858063e+06\n",
       "C      2.633494e+06\n",
       "CF     4.310227e+06\n",
       "CL     1.038333e+06\n",
       "DH     9.289682e+06\n",
       "LF     4.449357e+06\n",
       "OF     5.075000e+05\n",
       "RF     6.607214e+06\n",
       "RP     1.938351e+06\n",
       "SP     5.865431e+06\n",
       "SS     3.309571e+06\n",
       "Name: salary, dtype: float64"
      ]
     },
     "execution_count": 26,
     "metadata": {},
     "output_type": "execute_result"
    }
   ],
   "source": [
    "dmlb.groupby(['position'])['salary'].mean()"
   ]
  },
  {
   "cell_type": "markdown",
   "metadata": {},
   "source": [
    "NFL:"
   ]
  },
  {
   "cell_type": "code",
   "execution_count": 27,
   "metadata": {},
   "outputs": [
    {
     "data": {
      "text/plain": [
       "position\n",
       "C       1.587601e+06\n",
       "CB      1.690359e+06\n",
       "DE      2.104000e+06\n",
       "DEF     5.250000e+05\n",
       "DL      5.275000e+05\n",
       "DT      1.491866e+06\n",
       "FB      9.101558e+05\n",
       "G       1.375787e+06\n",
       "ILB     1.879618e+06\n",
       "K       1.589945e+06\n",
       "KR      6.600000e+05\n",
       "LB      5.496541e+05\n",
       "LS      8.314445e+05\n",
       "LT      3.259887e+06\n",
       "OLB     1.948299e+06\n",
       "P       1.589874e+06\n",
       "PR      5.250000e+05\n",
       "QB      4.198452e+06\n",
       "RB      1.309618e+06\n",
       "RT      1.569664e+06\n",
       "S       1.586793e+06\n",
       "T       5.487507e+05\n",
       "TE      1.405926e+06\n",
       "WR      1.489939e+06\n",
       "Name: salary, dtype: float64"
      ]
     },
     "execution_count": 27,
     "metadata": {},
     "output_type": "execute_result"
    }
   ],
   "source": [
    "dnfl.groupby(['position'])['salary'].mean()"
   ]
  },
  {
   "cell_type": "markdown",
   "metadata": {},
   "source": [
    "The highest paid positions are:\n",
    "  \n",
    "    * MLB: Designated Hitter, 9,289,682\n",
    "    * NFL: Quarterback, 4,198,451\n",
    "    * NBA: 6,478,098"
   ]
  },
  {
   "cell_type": "code",
   "execution_count": null,
   "metadata": {},
   "outputs": [],
   "source": []
  }
 ],
 "metadata": {
  "anaconda-cloud": {},
  "kernelspec": {
   "display_name": "Python 3",
   "language": "python",
   "name": "python3"
  },
  "language_info": {
   "codemirror_mode": {
    "name": "ipython",
    "version": 3
   },
   "file_extension": ".py",
   "mimetype": "text/x-python",
   "name": "python",
   "nbconvert_exporter": "python",
   "pygments_lexer": "ipython3",
   "version": "3.6.3"
  }
 },
 "nbformat": 4,
 "nbformat_minor": 2
}
