{
 "cells": [
  {
   "cell_type": "markdown",
   "metadata": {
    "collapsed": true
   },
   "source": [
    "# Understanding Sports Markets\n",
    "- Chapter 1 Miller"
   ]
  },
  {
   "cell_type": "markdown",
   "metadata": {},
   "source": [
    "# Objectives\n",
    "1. Examine and interpret salary distributions across groups\n",
    "2. Examine relationship between salary and winning percentage\n",
    "3. Calculate and/or estimation team values\n",
    "4. Implement and interpret visualization techniques\n",
    "5. Use histograms to explain differences in salary distributions across sports"
   ]
  },
  {
   "cell_type": "markdown",
   "metadata": {},
   "source": [
    "### Modules"
   ]
  },
  {
   "cell_type": "code",
   "execution_count": 27,
   "metadata": {},
   "outputs": [
    {
     "data": {
      "text/html": [
       "\n",
       "    <div class=\"bk-root\">\n",
       "        <a href=\"https://bokeh.pydata.org\" target=\"_blank\" class=\"bk-logo bk-logo-small bk-logo-notebook\"></a>\n",
       "        <span id=\"c9050e5a-9ed7-42b3-b084-cf23d04c2333\">Loading BokehJS ...</span>\n",
       "    </div>"
      ]
     },
     "metadata": {},
     "output_type": "display_data"
    },
    {
     "data": {
      "application/javascript": [
       "\n",
       "(function(root) {\n",
       "  function now() {\n",
       "    return new Date();\n",
       "  }\n",
       "\n",
       "  var force = true;\n",
       "\n",
       "  if (typeof (root._bokeh_onload_callbacks) === \"undefined\" || force === true) {\n",
       "    root._bokeh_onload_callbacks = [];\n",
       "    root._bokeh_is_loading = undefined;\n",
       "  }\n",
       "\n",
       "  var JS_MIME_TYPE = 'application/javascript';\n",
       "  var HTML_MIME_TYPE = 'text/html';\n",
       "  var EXEC_MIME_TYPE = 'application/vnd.bokehjs_exec.v0+json';\n",
       "  var CLASS_NAME = 'output_bokeh rendered_html';\n",
       "\n",
       "  /**\n",
       "   * Render data to the DOM node\n",
       "   */\n",
       "  function render(props, node) {\n",
       "    var script = document.createElement(\"script\");\n",
       "    node.appendChild(script);\n",
       "  }\n",
       "\n",
       "  /**\n",
       "   * Handle when an output is cleared or removed\n",
       "   */\n",
       "  function handleClearOutput(event, handle) {\n",
       "    var cell = handle.cell;\n",
       "\n",
       "    var id = cell.output_area._bokeh_element_id;\n",
       "    var server_id = cell.output_area._bokeh_server_id;\n",
       "    // Clean up Bokeh references\n",
       "    if (id !== undefined) {\n",
       "      Bokeh.index[id].model.document.clear();\n",
       "      delete Bokeh.index[id];\n",
       "    }\n",
       "\n",
       "    if (server_id !== undefined) {\n",
       "      // Clean up Bokeh references\n",
       "      var cmd = \"from bokeh.io.state import curstate; print(curstate().uuid_to_server['\" + server_id + \"'].get_sessions()[0].document.roots[0]._id)\";\n",
       "      cell.notebook.kernel.execute(cmd, {\n",
       "        iopub: {\n",
       "          output: function(msg) {\n",
       "            var element_id = msg.content.text.trim();\n",
       "            Bokeh.index[element_id].model.document.clear();\n",
       "            delete Bokeh.index[element_id];\n",
       "          }\n",
       "        }\n",
       "      });\n",
       "      // Destroy server and session\n",
       "      var cmd = \"import bokeh.io.notebook as ion; ion.destroy_server('\" + server_id + \"')\";\n",
       "      cell.notebook.kernel.execute(cmd);\n",
       "    }\n",
       "  }\n",
       "\n",
       "  /**\n",
       "   * Handle when a new output is added\n",
       "   */\n",
       "  function handleAddOutput(event, handle) {\n",
       "    var output_area = handle.output_area;\n",
       "    var output = handle.output;\n",
       "\n",
       "    // limit handleAddOutput to display_data with EXEC_MIME_TYPE content only\n",
       "    if ((output.output_type != \"display_data\") || (!output.data.hasOwnProperty(EXEC_MIME_TYPE))) {\n",
       "      return\n",
       "    }\n",
       "\n",
       "    var toinsert = output_area.element.find(`.${CLASS_NAME.split(' ')[0]}`);\n",
       "\n",
       "    if (output.metadata[EXEC_MIME_TYPE][\"id\"] !== undefined) {\n",
       "      toinsert[0].firstChild.textContent = output.data[JS_MIME_TYPE];\n",
       "      // store reference to embed id on output_area\n",
       "      output_area._bokeh_element_id = output.metadata[EXEC_MIME_TYPE][\"id\"];\n",
       "    }\n",
       "    if (output.metadata[EXEC_MIME_TYPE][\"server_id\"] !== undefined) {\n",
       "      var bk_div = document.createElement(\"div\");\n",
       "      bk_div.innerHTML = output.data[HTML_MIME_TYPE];\n",
       "      var script_attrs = bk_div.children[0].attributes;\n",
       "      for (var i = 0; i < script_attrs.length; i++) {\n",
       "        toinsert[0].firstChild.setAttribute(script_attrs[i].name, script_attrs[i].value);\n",
       "      }\n",
       "      // store reference to server id on output_area\n",
       "      output_area._bokeh_server_id = output.metadata[EXEC_MIME_TYPE][\"server_id\"];\n",
       "    }\n",
       "  }\n",
       "\n",
       "  function register_renderer(events, OutputArea) {\n",
       "\n",
       "    function append_mime(data, metadata, element) {\n",
       "      // create a DOM node to render to\n",
       "      var toinsert = this.create_output_subarea(\n",
       "        metadata,\n",
       "        CLASS_NAME,\n",
       "        EXEC_MIME_TYPE\n",
       "      );\n",
       "      this.keyboard_manager.register_events(toinsert);\n",
       "      // Render to node\n",
       "      var props = {data: data, metadata: metadata[EXEC_MIME_TYPE]};\n",
       "      render(props, toinsert[0]);\n",
       "      element.append(toinsert);\n",
       "      return toinsert\n",
       "    }\n",
       "\n",
       "    /* Handle when an output is cleared or removed */\n",
       "    events.on('clear_output.CodeCell', handleClearOutput);\n",
       "    events.on('delete.Cell', handleClearOutput);\n",
       "\n",
       "    /* Handle when a new output is added */\n",
       "    events.on('output_added.OutputArea', handleAddOutput);\n",
       "\n",
       "    /**\n",
       "     * Register the mime type and append_mime function with output_area\n",
       "     */\n",
       "    OutputArea.prototype.register_mime_type(EXEC_MIME_TYPE, append_mime, {\n",
       "      /* Is output safe? */\n",
       "      safe: true,\n",
       "      /* Index of renderer in `output_area.display_order` */\n",
       "      index: 0\n",
       "    });\n",
       "  }\n",
       "\n",
       "  // register the mime type if in Jupyter Notebook environment and previously unregistered\n",
       "  if (root.Jupyter !== undefined) {\n",
       "    var events = require('base/js/events');\n",
       "    var OutputArea = require('notebook/js/outputarea').OutputArea;\n",
       "\n",
       "    if (OutputArea.prototype.mime_types().indexOf(EXEC_MIME_TYPE) == -1) {\n",
       "      register_renderer(events, OutputArea);\n",
       "    }\n",
       "  }\n",
       "\n",
       "  \n",
       "  if (typeof (root._bokeh_timeout) === \"undefined\" || force === true) {\n",
       "    root._bokeh_timeout = Date.now() + 5000;\n",
       "    root._bokeh_failed_load = false;\n",
       "  }\n",
       "\n",
       "  var NB_LOAD_WARNING = {'data': {'text/html':\n",
       "     \"<div style='background-color: #fdd'>\\n\"+\n",
       "     \"<p>\\n\"+\n",
       "     \"BokehJS does not appear to have successfully loaded. If loading BokehJS from CDN, this \\n\"+\n",
       "     \"may be due to a slow or bad network connection. Possible fixes:\\n\"+\n",
       "     \"</p>\\n\"+\n",
       "     \"<ul>\\n\"+\n",
       "     \"<li>re-rerun `output_notebook()` to attempt to load from CDN again, or</li>\\n\"+\n",
       "     \"<li>use INLINE resources instead, as so:</li>\\n\"+\n",
       "     \"</ul>\\n\"+\n",
       "     \"<code>\\n\"+\n",
       "     \"from bokeh.resources import INLINE\\n\"+\n",
       "     \"output_notebook(resources=INLINE)\\n\"+\n",
       "     \"</code>\\n\"+\n",
       "     \"</div>\"}};\n",
       "\n",
       "  function display_loaded() {\n",
       "    var el = document.getElementById(\"c9050e5a-9ed7-42b3-b084-cf23d04c2333\");\n",
       "    if (el != null) {\n",
       "      el.textContent = \"BokehJS is loading...\";\n",
       "    }\n",
       "    if (root.Bokeh !== undefined) {\n",
       "      if (el != null) {\n",
       "        el.textContent = \"BokehJS \" + root.Bokeh.version + \" successfully loaded.\";\n",
       "      }\n",
       "    } else if (Date.now() < root._bokeh_timeout) {\n",
       "      setTimeout(display_loaded, 100)\n",
       "    }\n",
       "  }\n",
       "\n",
       "\n",
       "  function run_callbacks() {\n",
       "    try {\n",
       "      root._bokeh_onload_callbacks.forEach(function(callback) { callback() });\n",
       "    }\n",
       "    finally {\n",
       "      delete root._bokeh_onload_callbacks\n",
       "    }\n",
       "    console.info(\"Bokeh: all callbacks have finished\");\n",
       "  }\n",
       "\n",
       "  function load_libs(js_urls, callback) {\n",
       "    root._bokeh_onload_callbacks.push(callback);\n",
       "    if (root._bokeh_is_loading > 0) {\n",
       "      console.log(\"Bokeh: BokehJS is being loaded, scheduling callback at\", now());\n",
       "      return null;\n",
       "    }\n",
       "    if (js_urls == null || js_urls.length === 0) {\n",
       "      run_callbacks();\n",
       "      return null;\n",
       "    }\n",
       "    console.log(\"Bokeh: BokehJS not loaded, scheduling load and callback at\", now());\n",
       "    root._bokeh_is_loading = js_urls.length;\n",
       "    for (var i = 0; i < js_urls.length; i++) {\n",
       "      var url = js_urls[i];\n",
       "      var s = document.createElement('script');\n",
       "      s.src = url;\n",
       "      s.async = false;\n",
       "      s.onreadystatechange = s.onload = function() {\n",
       "        root._bokeh_is_loading--;\n",
       "        if (root._bokeh_is_loading === 0) {\n",
       "          console.log(\"Bokeh: all BokehJS libraries loaded\");\n",
       "          run_callbacks()\n",
       "        }\n",
       "      };\n",
       "      s.onerror = function() {\n",
       "        console.warn(\"failed to load library \" + url);\n",
       "      };\n",
       "      console.log(\"Bokeh: injecting script tag for BokehJS library: \", url);\n",
       "      document.getElementsByTagName(\"head\")[0].appendChild(s);\n",
       "    }\n",
       "  };var element = document.getElementById(\"c9050e5a-9ed7-42b3-b084-cf23d04c2333\");\n",
       "  if (element == null) {\n",
       "    console.log(\"Bokeh: ERROR: autoload.js configured with elementid 'c9050e5a-9ed7-42b3-b084-cf23d04c2333' but no matching script tag was found. \")\n",
       "    return false;\n",
       "  }\n",
       "\n",
       "  var js_urls = [\"https://cdn.pydata.org/bokeh/release/bokeh-0.12.10.min.js\", \"https://cdn.pydata.org/bokeh/release/bokeh-widgets-0.12.10.min.js\", \"https://cdn.pydata.org/bokeh/release/bokeh-tables-0.12.10.min.js\", \"https://cdn.pydata.org/bokeh/release/bokeh-gl-0.12.10.min.js\"];\n",
       "\n",
       "  var inline_js = [\n",
       "    function(Bokeh) {\n",
       "      Bokeh.set_log_level(\"info\");\n",
       "    },\n",
       "    \n",
       "    function(Bokeh) {\n",
       "      \n",
       "    },\n",
       "    function(Bokeh) {\n",
       "      console.log(\"Bokeh: injecting CSS: https://cdn.pydata.org/bokeh/release/bokeh-0.12.10.min.css\");\n",
       "      Bokeh.embed.inject_css(\"https://cdn.pydata.org/bokeh/release/bokeh-0.12.10.min.css\");\n",
       "      console.log(\"Bokeh: injecting CSS: https://cdn.pydata.org/bokeh/release/bokeh-widgets-0.12.10.min.css\");\n",
       "      Bokeh.embed.inject_css(\"https://cdn.pydata.org/bokeh/release/bokeh-widgets-0.12.10.min.css\");\n",
       "      console.log(\"Bokeh: injecting CSS: https://cdn.pydata.org/bokeh/release/bokeh-tables-0.12.10.min.css\");\n",
       "      Bokeh.embed.inject_css(\"https://cdn.pydata.org/bokeh/release/bokeh-tables-0.12.10.min.css\");\n",
       "    }\n",
       "  ];\n",
       "\n",
       "  function run_inline_js() {\n",
       "    \n",
       "    if ((root.Bokeh !== undefined) || (force === true)) {\n",
       "      for (var i = 0; i < inline_js.length; i++) {\n",
       "        inline_js[i].call(root, root.Bokeh);\n",
       "      }if (force === true) {\n",
       "        display_loaded();\n",
       "      }} else if (Date.now() < root._bokeh_timeout) {\n",
       "      setTimeout(run_inline_js, 100);\n",
       "    } else if (!root._bokeh_failed_load) {\n",
       "      console.log(\"Bokeh: BokehJS failed to load within specified timeout.\");\n",
       "      root._bokeh_failed_load = true;\n",
       "    } else if (force !== true) {\n",
       "      var cell = $(document.getElementById(\"c9050e5a-9ed7-42b3-b084-cf23d04c2333\")).parents('.cell').data().cell;\n",
       "      cell.output_area.append_execute_result(NB_LOAD_WARNING)\n",
       "    }\n",
       "\n",
       "  }\n",
       "\n",
       "  if (root._bokeh_is_loading === 0) {\n",
       "    console.log(\"Bokeh: BokehJS loaded, going straight to plotting\");\n",
       "    run_inline_js();\n",
       "  } else {\n",
       "    load_libs(js_urls, function() {\n",
       "      console.log(\"Bokeh: BokehJS plotting callback run at\", now());\n",
       "      run_inline_js();\n",
       "    });\n",
       "  }\n",
       "}(window));"
      ],
      "application/vnd.bokehjs_load.v0+json": "\n(function(root) {\n  function now() {\n    return new Date();\n  }\n\n  var force = true;\n\n  if (typeof (root._bokeh_onload_callbacks) === \"undefined\" || force === true) {\n    root._bokeh_onload_callbacks = [];\n    root._bokeh_is_loading = undefined;\n  }\n\n  \n\n  \n  if (typeof (root._bokeh_timeout) === \"undefined\" || force === true) {\n    root._bokeh_timeout = Date.now() + 5000;\n    root._bokeh_failed_load = false;\n  }\n\n  var NB_LOAD_WARNING = {'data': {'text/html':\n     \"<div style='background-color: #fdd'>\\n\"+\n     \"<p>\\n\"+\n     \"BokehJS does not appear to have successfully loaded. If loading BokehJS from CDN, this \\n\"+\n     \"may be due to a slow or bad network connection. Possible fixes:\\n\"+\n     \"</p>\\n\"+\n     \"<ul>\\n\"+\n     \"<li>re-rerun `output_notebook()` to attempt to load from CDN again, or</li>\\n\"+\n     \"<li>use INLINE resources instead, as so:</li>\\n\"+\n     \"</ul>\\n\"+\n     \"<code>\\n\"+\n     \"from bokeh.resources import INLINE\\n\"+\n     \"output_notebook(resources=INLINE)\\n\"+\n     \"</code>\\n\"+\n     \"</div>\"}};\n\n  function display_loaded() {\n    var el = document.getElementById(\"c9050e5a-9ed7-42b3-b084-cf23d04c2333\");\n    if (el != null) {\n      el.textContent = \"BokehJS is loading...\";\n    }\n    if (root.Bokeh !== undefined) {\n      if (el != null) {\n        el.textContent = \"BokehJS \" + root.Bokeh.version + \" successfully loaded.\";\n      }\n    } else if (Date.now() < root._bokeh_timeout) {\n      setTimeout(display_loaded, 100)\n    }\n  }\n\n\n  function run_callbacks() {\n    try {\n      root._bokeh_onload_callbacks.forEach(function(callback) { callback() });\n    }\n    finally {\n      delete root._bokeh_onload_callbacks\n    }\n    console.info(\"Bokeh: all callbacks have finished\");\n  }\n\n  function load_libs(js_urls, callback) {\n    root._bokeh_onload_callbacks.push(callback);\n    if (root._bokeh_is_loading > 0) {\n      console.log(\"Bokeh: BokehJS is being loaded, scheduling callback at\", now());\n      return null;\n    }\n    if (js_urls == null || js_urls.length === 0) {\n      run_callbacks();\n      return null;\n    }\n    console.log(\"Bokeh: BokehJS not loaded, scheduling load and callback at\", now());\n    root._bokeh_is_loading = js_urls.length;\n    for (var i = 0; i < js_urls.length; i++) {\n      var url = js_urls[i];\n      var s = document.createElement('script');\n      s.src = url;\n      s.async = false;\n      s.onreadystatechange = s.onload = function() {\n        root._bokeh_is_loading--;\n        if (root._bokeh_is_loading === 0) {\n          console.log(\"Bokeh: all BokehJS libraries loaded\");\n          run_callbacks()\n        }\n      };\n      s.onerror = function() {\n        console.warn(\"failed to load library \" + url);\n      };\n      console.log(\"Bokeh: injecting script tag for BokehJS library: \", url);\n      document.getElementsByTagName(\"head\")[0].appendChild(s);\n    }\n  };var element = document.getElementById(\"c9050e5a-9ed7-42b3-b084-cf23d04c2333\");\n  if (element == null) {\n    console.log(\"Bokeh: ERROR: autoload.js configured with elementid 'c9050e5a-9ed7-42b3-b084-cf23d04c2333' but no matching script tag was found. \")\n    return false;\n  }\n\n  var js_urls = [\"https://cdn.pydata.org/bokeh/release/bokeh-0.12.10.min.js\", \"https://cdn.pydata.org/bokeh/release/bokeh-widgets-0.12.10.min.js\", \"https://cdn.pydata.org/bokeh/release/bokeh-tables-0.12.10.min.js\", \"https://cdn.pydata.org/bokeh/release/bokeh-gl-0.12.10.min.js\"];\n\n  var inline_js = [\n    function(Bokeh) {\n      Bokeh.set_log_level(\"info\");\n    },\n    \n    function(Bokeh) {\n      \n    },\n    function(Bokeh) {\n      console.log(\"Bokeh: injecting CSS: https://cdn.pydata.org/bokeh/release/bokeh-0.12.10.min.css\");\n      Bokeh.embed.inject_css(\"https://cdn.pydata.org/bokeh/release/bokeh-0.12.10.min.css\");\n      console.log(\"Bokeh: injecting CSS: https://cdn.pydata.org/bokeh/release/bokeh-widgets-0.12.10.min.css\");\n      Bokeh.embed.inject_css(\"https://cdn.pydata.org/bokeh/release/bokeh-widgets-0.12.10.min.css\");\n      console.log(\"Bokeh: injecting CSS: https://cdn.pydata.org/bokeh/release/bokeh-tables-0.12.10.min.css\");\n      Bokeh.embed.inject_css(\"https://cdn.pydata.org/bokeh/release/bokeh-tables-0.12.10.min.css\");\n    }\n  ];\n\n  function run_inline_js() {\n    \n    if ((root.Bokeh !== undefined) || (force === true)) {\n      for (var i = 0; i < inline_js.length; i++) {\n        inline_js[i].call(root, root.Bokeh);\n      }if (force === true) {\n        display_loaded();\n      }} else if (Date.now() < root._bokeh_timeout) {\n      setTimeout(run_inline_js, 100);\n    } else if (!root._bokeh_failed_load) {\n      console.log(\"Bokeh: BokehJS failed to load within specified timeout.\");\n      root._bokeh_failed_load = true;\n    } else if (force !== true) {\n      var cell = $(document.getElementById(\"c9050e5a-9ed7-42b3-b084-cf23d04c2333\")).parents('.cell').data().cell;\n      cell.output_area.append_execute_result(NB_LOAD_WARNING)\n    }\n\n  }\n\n  if (root._bokeh_is_loading === 0) {\n    console.log(\"Bokeh: BokehJS loaded, going straight to plotting\");\n    run_inline_js();\n  } else {\n    load_libs(js_urls, function() {\n      console.log(\"Bokeh: BokehJS plotting callback run at\", now());\n      run_inline_js();\n    });\n  }\n}(window));"
     },
     "metadata": {},
     "output_type": "display_data"
    }
   ],
   "source": [
    "# system\n",
    "import os\n",
    "import sys\n",
    "\n",
    "# Data management\n",
    "import pandas\n",
    "import numpy\n",
    "## configure pandas display options\n",
    "pandas.set_option('display.notebook_repr_html', False)\n",
    "pandas.set_option('display.max_columns', 20)\n",
    "pandas.set_option('display.max_rows', 25)\n",
    "pandas.options.display.float_format = '{:,.2f}'.format\n",
    "\n",
    "# Plots\n",
    "%matplotlib inline\n",
    "import matplotlib.pyplot as plt\n",
    "import bokeh\n",
    "from bokeh.io import push_notebook, show, output_notebook\n",
    "from bokeh.layouts import row\n",
    "from bokeh.plotting import figure\n",
    "output_notebook()\n",
    "\n",
    "# learning\n",
    "import statsmodels.api as sm"
   ]
  },
  {
   "cell_type": "markdown",
   "metadata": {},
   "source": [
    "### System management"
   ]
  },
  {
   "cell_type": "code",
   "execution_count": 28,
   "metadata": {},
   "outputs": [
    {
     "data": {
      "text/plain": [
       "['.ipynb_checkpoints',\n",
       " '02a-player_salaries.ipynb',\n",
       " 'homework',\n",
       " 'mlb_payroll_performance_2014.csv']"
      ]
     },
     "execution_count": 28,
     "metadata": {},
     "output_type": "execute_result"
    }
   ],
   "source": [
    "list_files = os.listdir()\n",
    "list_files"
   ]
  },
  {
   "cell_type": "code",
   "execution_count": 29,
   "metadata": {},
   "outputs": [
    {
     "data": {
      "text/plain": [
       "4"
      ]
     },
     "execution_count": 29,
     "metadata": {},
     "output_type": "execute_result"
    }
   ],
   "source": [
    "len(list_files) #Number of files in list"
   ]
  },
  {
   "cell_type": "markdown",
   "metadata": {},
   "source": [
    "### Load data"
   ]
  },
  {
   "cell_type": "code",
   "execution_count": 30,
   "metadata": {},
   "outputs": [
    {
     "data": {
      "text/plain": [
       "  team    payroll league  games  wins  losses  wlpct  runs  averuns  rundiff  \\\n",
       "0  LAA  128046500     AL    162    98      64   0.60  4.80     3.90     0.90   \n",
       "1  BAL  105084121     AL    162    96      66   0.59  4.40     3.70     0.70   \n",
       "2  WSN  134366735     NL    162    96      66   0.59  4.20     3.40     0.80   \n",
       "3  LAD  241128402     NL    162    94      68   0.58  4.40     3.80     0.60   \n",
       "4  STL  114020360     NL    162    90      72   0.56  3.80     3.70     0.10   \n",
       "\n",
       "  textleft textright  \n",
       "0      LAA       NaN  \n",
       "1      BAL       NaN  \n",
       "2      WSN       NaN  \n",
       "3      LAD       NaN  \n",
       "4      STL       NaN  "
      ]
     },
     "execution_count": 30,
     "metadata": {},
     "output_type": "execute_result"
    }
   ],
   "source": [
    "dm = pandas.read_csv('mlb_payroll_performance_2014.csv')\n",
    "dm.head()"
   ]
  },
  {
   "cell_type": "code",
   "execution_count": 31,
   "metadata": {},
   "outputs": [
    {
     "data": {
      "text/plain": [
       "30"
      ]
     },
     "execution_count": 31,
     "metadata": {},
     "output_type": "execute_result"
    }
   ],
   "source": [
    "len(dm)"
   ]
  },
  {
   "cell_type": "markdown",
   "metadata": {},
   "source": [
    "### Descriptive statistics \n"
   ]
  },
  {
   "cell_type": "code",
   "execution_count": 32,
   "metadata": {},
   "outputs": [
    {
     "data": {
      "text/plain": [
       "             payroll  games  wins  losses  wlpct  runs  averuns  rundiff\n",
       "count          30.00  30.00 30.00   30.00  30.00 30.00    30.00    30.00\n",
       "mean  112,720,745.07 162.00 81.00   81.00   0.50  4.07     4.07     0.00\n",
       "std    44,775,292.91   0.00  9.60    9.60   0.06  0.36     0.43     0.50\n",
       "min    44,985,800.00 162.00 64.00   64.00   0.40  3.30     3.40    -0.80\n",
       "25%    82,637,189.00 162.00 73.00   74.00   0.45  3.82     3.80    -0.40\n",
       "50%    98,901,704.50 162.00 80.50   81.50   0.50  4.00     3.95    -0.05\n",
       "75%   131,600,147.00 162.00 88.00   89.00   0.54  4.35     4.40     0.30\n",
       "max   241,128,402.00 162.00 98.00   98.00   0.60  4.80     5.00     1.00"
      ]
     },
     "execution_count": 32,
     "metadata": {},
     "output_type": "execute_result"
    }
   ],
   "source": [
    "# All data\n",
    "dm.describe()"
   ]
  },
  {
   "cell_type": "code",
   "execution_count": 33,
   "metadata": {
    "collapsed": true
   },
   "outputs": [],
   "source": [
    "# transform payroll to millions of dollars\n",
    "dm['payroll_millions'] = dm['payroll']/1000000"
   ]
  },
  {
   "cell_type": "code",
   "execution_count": 34,
   "metadata": {},
   "outputs": [
    {
     "data": {
      "text/plain": [
       "             payroll  games  wins  losses  wlpct  runs  averuns  rundiff  \\\n",
       "count          30.00  30.00 30.00   30.00  30.00 30.00    30.00    30.00   \n",
       "mean  112,720,745.07 162.00 81.00   81.00   0.50  4.07     4.07     0.00   \n",
       "std    44,775,292.91   0.00  9.60    9.60   0.06  0.36     0.43     0.50   \n",
       "min    44,985,800.00 162.00 64.00   64.00   0.40  3.30     3.40    -0.80   \n",
       "25%    82,637,189.00 162.00 73.00   74.00   0.45  3.82     3.80    -0.40   \n",
       "50%    98,901,704.50 162.00 80.50   81.50   0.50  4.00     3.95    -0.05   \n",
       "75%   131,600,147.00 162.00 88.00   89.00   0.54  4.35     4.40     0.30   \n",
       "max   241,128,402.00 162.00 98.00   98.00   0.60  4.80     5.00     1.00   \n",
       "\n",
       "       payroll_millions  \n",
       "count             30.00  \n",
       "mean             112.72  \n",
       "std               44.78  \n",
       "min               44.99  \n",
       "25%               82.64  \n",
       "50%               98.90  \n",
       "75%              131.60  \n",
       "max              241.13  "
      ]
     },
     "execution_count": 34,
     "metadata": {},
     "output_type": "execute_result"
    }
   ],
   "source": [
    "dm.describe()"
   ]
  },
  {
   "cell_type": "code",
   "execution_count": 35,
   "metadata": {},
   "outputs": [
    {
     "data": {
      "text/plain": [
       "league\n",
       "AL   111,804,347.40\n",
       "NL   113,637,142.73\n",
       "Name: payroll, dtype: float64"
      ]
     },
     "execution_count": 35,
     "metadata": {},
     "output_type": "execute_result"
    }
   ],
   "source": [
    "# mean payroll across leages\n",
    "dm.groupby(['league'])['payroll'].mean()"
   ]
  },
  {
   "cell_type": "code",
   "execution_count": 38,
   "metadata": {},
   "outputs": [
    {
     "data": {
      "text/plain": [
       "(array([ 2.,  7.,  7.,  4.,  4.,  2.,  2.,  0.,  1.,  1.]),\n",
       " array([  44.9858   ,   64.6000602,   84.2143204,  103.8285806,\n",
       "         123.4428408,  143.057101 ,  162.6713612,  182.2856214,\n",
       "         201.8998816,  221.5141418,  241.128402 ]),\n",
       " <a list of 10 Patch objects>)"
      ]
     },
     "execution_count": 38,
     "metadata": {},
     "output_type": "execute_result"
    },
    {
     "data": {
      "image/png": "[encoded data removed]",
      "text/plain": [
       "<matplotlib.figure.Figure at 0x22b8983f6d8>"
      ]
     },
     "metadata": {},
     "output_type": "display_data"
    }
   ],
   "source": [
    "plt.hist(dm['payroll_millions'], bins=10)"
   ]
  },
  {
   "cell_type": "code",
   "execution_count": 40,
   "metadata": {},
   "outputs": [
    {
     "data": {
      "text/plain": [
       "(array([ 3.,  2.,  4.,  4.,  2.,  3.,  2.,  6.,  1.,  3.]),\n",
       " array([ 0.395,  0.416,  0.437,  0.458,  0.479,  0.5  ,  0.521,  0.542,\n",
       "         0.563,  0.584,  0.605]),\n",
       " <a list of 10 Patch objects>)"
      ]
     },
     "execution_count": 40,
     "metadata": {},
     "output_type": "execute_result"
    },
    {
     "data": {
      "image/png": "[encoded data removed]",
      "text/plain": [
       "<matplotlib.figure.Figure at 0x22b89d46128>"
      ]
     },
     "metadata": {},
     "output_type": "display_data"
    }
   ],
   "source": [
    "plt.hist(dm.wlpct, bins=10)"
   ]
  },
  {
   "cell_type": "code",
   "execution_count": 39,
   "metadata": {},
   "outputs": [
    {
     "data": {
      "image/png": "[encoded data removed]",
      "text/plain": [
       "<matplotlib.figure.Figure at 0x22b89907c18>"
      ]
     },
     "metadata": {},
     "output_type": "display_data"
    }
   ],
   "source": [
    "plt.hist(dm['payroll_millions'], bins=10)\n",
    "plt.title(\"MLB payroll distribution\")\n",
    "plt.xlabel(\"MLB payroll in millions of dollars\")\n",
    "plt.ylabel(\"Frequency\")\n",
    "plt.show()"
   ]
  },
  {
   "cell_type": "code",
   "execution_count": 12,
   "metadata": {},
   "outputs": [
    {
     "data": {
      "text/html": [
       "\n",
       "<div class=\"bk-root\">\n",
       "    <div class=\"bk-plotdiv\" id=\"ff12dd87-7c6c-4c6b-b0fb-e8a414df1108\"></div>\n",
       "</div>"
      ]
     },
     "metadata": {},
     "output_type": "display_data"
    },
    {
     "data": {
      "application/javascript": [
       "(function(root) {\n",
       "  function embed_document(root) {\n",
       "    var docs_json = {\"b99f5669-92a7-471b-8fc4-4cf2de4d265c\":{\"roots\":{\"references\":[{\"attributes\":{},\"id\":\"2e970e49-d5a2-4921-ba75-898c6c3c8867\",\"type\":\"WheelZoomTool\"},{\"attributes\":{},\"id\":\"46e3eab0-1045-4253-b8f3-82cf8ef3af0b\",\"type\":\"LinearScale\"},{\"attributes\":{\"fill_alpha\":{\"value\":0.5},\"fill_color\":{\"value\":\"firebrick\"},\"line_alpha\":{\"value\":0.5},\"line_color\":{\"value\":\"firebrick\"},\"size\":{\"units\":\"screen\",\"value\":10},\"x\":{\"field\":\"x\"},\"y\":{\"field\":\"y\"}},\"id\":\"1e70d31e-b79f-4e7a-b427-1b2289f52779\",\"type\":\"Circle\"},{\"attributes\":{},\"id\":\"3091dd50-4c20-49a8-8f5a-15ab46543876\",\"type\":\"BasicTickFormatter\"},{\"attributes\":{\"align\":\"center\",\"plot\":{\"id\":\"f7555cdb-8c1f-4388-b9de-cd29a410c564\",\"subtype\":\"Figure\",\"type\":\"Plot\"},\"text\":\"Winning percentage\"},\"id\":\"99546892-5b09-480f-b0a4-64ec3ca1d950\",\"type\":\"Title\"},{\"attributes\":{\"fill_alpha\":{\"value\":0.1},\"fill_color\":{\"value\":\"#1f77b4\"},\"line_alpha\":{\"value\":0.1},\"line_color\":{\"value\":\"#1f77b4\"},\"size\":{\"units\":\"screen\",\"value\":10},\"x\":{\"field\":\"x\"},\"y\":{\"field\":\"y\"}},\"id\":\"54b62f1d-c9c5-4b9e-b01a-797e4fa4f125\",\"type\":\"Circle\"},{\"attributes\":{},\"id\":\"b0c6f6b3-48f6-4c0a-9da6-ea18472f5a1d\",\"type\":\"ResetTool\"},{\"attributes\":{\"callback\":null,\"end\":300},\"id\":\"5b3a1978-b3ac-40da-b1d1-a99887887f40\",\"type\":\"Range1d\"},{\"attributes\":{},\"id\":\"90319517-aff3-404a-bd35-c431e1b9ea72\",\"type\":\"BasicTickFormatter\"},{\"attributes\":{},\"id\":\"191a6bb3-1d46-4944-98bf-726c3964ac58\",\"type\":\"SaveTool\"},{\"attributes\":{\"below\":[{\"id\":\"72289c57-39c0-4754-aa23-99763d182d5a\",\"type\":\"LinearAxis\"},{\"id\":\"d525f127-2eec-4d2b-becb-754811afca73\",\"type\":\"Title\"}],\"left\":[{\"id\":\"4ca34cf2-ae23-4123-afa4-ad049b0c6ae2\",\"type\":\"LinearAxis\"},{\"id\":\"99546892-5b09-480f-b0a4-64ec3ca1d950\",\"type\":\"Title\"}],\"plot_height\":400,\"plot_width\":700,\"renderers\":[{\"id\":\"72289c57-39c0-4754-aa23-99763d182d5a\",\"type\":\"LinearAxis\"},{\"id\":\"77feca0a-02b4-47fc-9556-0ad5829f2f09\",\"type\":\"Grid\"},{\"id\":\"4ca34cf2-ae23-4123-afa4-ad049b0c6ae2\",\"type\":\"LinearAxis\"},{\"id\":\"8d79a6d7-7776-4620-aeb0-a9578b7393be\",\"type\":\"Grid\"},{\"id\":\"aa10fa03-c7ec-4612-b486-446a74454ab7\",\"type\":\"BoxAnnotation\"},{\"id\":\"98992f95-f3e0-4434-b224-aec30edcc92f\",\"type\":\"GlyphRenderer\"},{\"id\":\"99546892-5b09-480f-b0a4-64ec3ca1d950\",\"type\":\"Title\"},{\"id\":\"d525f127-2eec-4d2b-becb-754811afca73\",\"type\":\"Title\"}],\"title\":{\"id\":\"42ccd946-1c16-4149-b922-fe3830ea0046\",\"type\":\"Title\"},\"toolbar\":{\"id\":\"1a132d0e-eb31-4e3d-a576-e84180912e25\",\"type\":\"Toolbar\"},\"x_range\":{\"id\":\"5b3a1978-b3ac-40da-b1d1-a99887887f40\",\"type\":\"Range1d\"},\"x_scale\":{\"id\":\"fabb475f-5a0b-4ea2-8810-691cd7cec812\",\"type\":\"LinearScale\"},\"y_range\":{\"id\":\"9c155621-a510-44ba-b8d0-503d0e9f619d\",\"type\":\"Range1d\"},\"y_scale\":{\"id\":\"46e3eab0-1045-4253-b8f3-82cf8ef3af0b\",\"type\":\"LinearScale\"}},\"id\":\"f7555cdb-8c1f-4388-b9de-cd29a410c564\",\"subtype\":\"Figure\",\"type\":\"Plot\"},{\"attributes\":{\"data_source\":{\"id\":\"a3ba47b1-976f-467a-acd7-1aa967ca3c30\",\"type\":\"ColumnDataSource\"},\"glyph\":{\"id\":\"1e70d31e-b79f-4e7a-b427-1b2289f52779\",\"type\":\"Circle\"},\"hover_glyph\":null,\"muted_glyph\":null,\"nonselection_glyph\":{\"id\":\"54b62f1d-c9c5-4b9e-b01a-797e4fa4f125\",\"type\":\"Circle\"},\"selection_glyph\":null,\"view\":{\"id\":\"1576273d-27bf-4818-ae79-8c3f6171125d\",\"type\":\"CDSView\"}},\"id\":\"98992f95-f3e0-4434-b224-aec30edcc92f\",\"type\":\"GlyphRenderer\"},{\"attributes\":{},\"id\":\"48a4dd47-0841-42f1-98bf-ddffb06d5de9\",\"type\":\"PanTool\"},{\"attributes\":{},\"id\":\"fabb475f-5a0b-4ea2-8810-691cd7cec812\",\"type\":\"LinearScale\"},{\"attributes\":{\"callback\":null},\"id\":\"9c155621-a510-44ba-b8d0-503d0e9f619d\",\"type\":\"Range1d\"},{\"attributes\":{},\"id\":\"eaa91c95-9eeb-4452-a308-368d4dddb014\",\"type\":\"BasicTicker\"},{\"attributes\":{\"plot\":null,\"text\":\"Relationship between payroll and winning percentage\"},\"id\":\"42ccd946-1c16-4149-b922-fe3830ea0046\",\"type\":\"Title\"},{\"attributes\":{\"dimension\":1,\"plot\":{\"id\":\"f7555cdb-8c1f-4388-b9de-cd29a410c564\",\"subtype\":\"Figure\",\"type\":\"Plot\"},\"ticker\":{\"id\":\"eaa91c95-9eeb-4452-a308-368d4dddb014\",\"type\":\"BasicTicker\"}},\"id\":\"8d79a6d7-7776-4620-aeb0-a9578b7393be\",\"type\":\"Grid\"},{\"attributes\":{\"source\":{\"id\":\"a3ba47b1-976f-467a-acd7-1aa967ca3c30\",\"type\":\"ColumnDataSource\"}},\"id\":\"1576273d-27bf-4818-ae79-8c3f6171125d\",\"type\":\"CDSView\"},{\"attributes\":{},\"id\":\"d91d868f-5409-4603-a431-34a12a501985\",\"type\":\"HelpTool\"},{\"attributes\":{\"align\":\"center\",\"plot\":{\"id\":\"f7555cdb-8c1f-4388-b9de-cd29a410c564\",\"subtype\":\"Figure\",\"type\":\"Plot\"},\"text\":\"Payroll (in dollars)\"},\"id\":\"d525f127-2eec-4d2b-becb-754811afca73\",\"type\":\"Title\"},{\"attributes\":{\"formatter\":{\"id\":\"90319517-aff3-404a-bd35-c431e1b9ea72\",\"type\":\"BasicTickFormatter\"},\"plot\":{\"id\":\"f7555cdb-8c1f-4388-b9de-cd29a410c564\",\"subtype\":\"Figure\",\"type\":\"Plot\"},\"ticker\":{\"id\":\"8e91a4ec-6c9f-412a-87e5-a53e2e6f421b\",\"type\":\"BasicTicker\"}},\"id\":\"72289c57-39c0-4754-aa23-99763d182d5a\",\"type\":\"LinearAxis\"},{\"attributes\":{\"overlay\":{\"id\":\"aa10fa03-c7ec-4612-b486-446a74454ab7\",\"type\":\"BoxAnnotation\"}},\"id\":\"4a46f49b-9b0f-4460-82c6-6f713496bba4\",\"type\":\"BoxZoomTool\"},{\"attributes\":{\"plot\":{\"id\":\"f7555cdb-8c1f-4388-b9de-cd29a410c564\",\"subtype\":\"Figure\",\"type\":\"Plot\"},\"ticker\":{\"id\":\"8e91a4ec-6c9f-412a-87e5-a53e2e6f421b\",\"type\":\"BasicTicker\"}},\"id\":\"77feca0a-02b4-47fc-9556-0ad5829f2f09\",\"type\":\"Grid\"},{\"attributes\":{\"callback\":null,\"column_names\":[\"x\",\"y\"],\"data\":{\"x\":{\"__ndarray__\":\"c2iR7XwBYEAJ+gs9YkVaQI7pCUu8y2BAtteC3hskbkBhiQeUTYFcQFg89UiDsmVAiUFg5dCeVkDIBtLFpndiQIZUUbzKVVNA7uvAOSNOU0ATY5l+iWJWQI51cRsNoFRAGeQuwpQaakBhVFInoB1gQAFQxY1brllAS5F8JZAjU0A+tI8V/BFVQPSHZp5cb1RAcVXZd0WCVEDeAgmKH2tKQBZruMg9GFxA0qsBSkMjVkBM/id/98JUQE7soX2scGZA+5EiMiz8Y0DKMsSxLn5GQGZmZmZmOlVABduIJ7uPYED4w89/D8VXQMx9chQgc15A\",\"dtype\":\"float64\",\"shape\":[30]},\"y\":{\"__ndarray__\":\"XI/C9Shc4z9g5dAi2/niP2Dl0CLb+eI/j8L1KFyP4j+YbhKDwMrhP5huEoPAyuE/xCCwcmiR4T/GSzeJQWDhP8ZLN4lBYOE/xks3iUFg4T/Jdr6fGi/hP83MzMzMzOA/+n5qvHST4D/8qfHSTWLgP/7UeOkmMeA/CKwcWmQ73z8IrBxaZDvfP2ZmZmZmZt4/ZmZmZmZm3j9mZmZmZmbeP2q8dJMYBN4/d76fGi/d3D93vp8aL93cP3e+nxov3dw/1HjpJjEI3D/azvdT46XbP9rO91Pjpds/5dAi2/l+2j9ANV66SQzaP0jhehSuR9k/\",\"dtype\":\"float64\",\"shape\":[30]}}},\"id\":\"a3ba47b1-976f-467a-acd7-1aa967ca3c30\",\"type\":\"ColumnDataSource\"},{\"attributes\":{\"bottom_units\":\"screen\",\"fill_alpha\":{\"value\":0.5},\"fill_color\":{\"value\":\"lightgrey\"},\"left_units\":\"screen\",\"level\":\"overlay\",\"line_alpha\":{\"value\":1.0},\"line_color\":{\"value\":\"black\"},\"line_dash\":[4,4],\"line_width\":{\"value\":2},\"plot\":null,\"render_mode\":\"css\",\"right_units\":\"screen\",\"top_units\":\"screen\"},\"id\":\"aa10fa03-c7ec-4612-b486-446a74454ab7\",\"type\":\"BoxAnnotation\"},{\"attributes\":{\"formatter\":{\"id\":\"3091dd50-4c20-49a8-8f5a-15ab46543876\",\"type\":\"BasicTickFormatter\"},\"plot\":{\"id\":\"f7555cdb-8c1f-4388-b9de-cd29a410c564\",\"subtype\":\"Figure\",\"type\":\"Plot\"},\"ticker\":{\"id\":\"eaa91c95-9eeb-4452-a308-368d4dddb014\",\"type\":\"BasicTicker\"}},\"id\":\"4ca34cf2-ae23-4123-afa4-ad049b0c6ae2\",\"type\":\"LinearAxis\"},{\"attributes\":{},\"id\":\"8e91a4ec-6c9f-412a-87e5-a53e2e6f421b\",\"type\":\"BasicTicker\"},{\"attributes\":{\"active_drag\":\"auto\",\"active_inspect\":\"auto\",\"active_scroll\":\"auto\",\"active_tap\":\"auto\",\"tools\":[{\"id\":\"48a4dd47-0841-42f1-98bf-ddffb06d5de9\",\"type\":\"PanTool\"},{\"id\":\"2e970e49-d5a2-4921-ba75-898c6c3c8867\",\"type\":\"WheelZoomTool\"},{\"id\":\"4a46f49b-9b0f-4460-82c6-6f713496bba4\",\"type\":\"BoxZoomTool\"},{\"id\":\"191a6bb3-1d46-4944-98bf-726c3964ac58\",\"type\":\"SaveTool\"},{\"id\":\"b0c6f6b3-48f6-4c0a-9da6-ea18472f5a1d\",\"type\":\"ResetTool\"},{\"id\":\"d91d868f-5409-4603-a431-34a12a501985\",\"type\":\"HelpTool\"}]},\"id\":\"1a132d0e-eb31-4e3d-a576-e84180912e25\",\"type\":\"Toolbar\"}],\"root_ids\":[\"f7555cdb-8c1f-4388-b9de-cd29a410c564\"]},\"title\":\"Bokeh Application\",\"version\":\"0.12.10\"}};\n",
       "    var render_items = [{\"docid\":\"b99f5669-92a7-471b-8fc4-4cf2de4d265c\",\"elementid\":\"ff12dd87-7c6c-4c6b-b0fb-e8a414df1108\",\"modelid\":\"f7555cdb-8c1f-4388-b9de-cd29a410c564\"}];\n",
       "\n",
       "    root.Bokeh.embed.embed_items(docs_json, render_items);\n",
       "  }\n",
       "\n",
       "  if (root.Bokeh !== undefined) {\n",
       "    embed_document(root);\n",
       "  } else {\n",
       "    var attempts = 0;\n",
       "    var timer = setInterval(function(root) {\n",
       "      if (root.Bokeh !== undefined) {\n",
       "        embed_document(root);\n",
       "        clearInterval(timer);\n",
       "      }\n",
       "      attempts++;\n",
       "      if (attempts > 100) {\n",
       "        console.log(\"Bokeh: ERROR: Unable to embed document because BokehJS library is missing\")\n",
       "        clearInterval(timer);\n",
       "      }\n",
       "    }, 10, root)\n",
       "  }\n",
       "})(window);"
      ],
      "application/vnd.bokehjs_exec.v0+json": ""
     },
     "metadata": {
      "application/vnd.bokehjs_exec.v0+json": {
       "id": "f7555cdb-8c1f-4388-b9de-cd29a410c564"
      }
     },
     "output_type": "display_data"
    }
   ],
   "source": [
    "# Scatter plot\n",
    "from bokeh.models import Title, Label, LabelSet\n",
    "p = figure(title='Relationship between payroll and winning percentage',\n",
    "           plot_width=700, \n",
    "           plot_height=400, \n",
    "           y_range = (0, 1),\n",
    "           x_range = (0, 300)\n",
    "          )\n",
    "p.circle(y=dm.wlpct, x=dm.payroll_millions,  size=10, color=\"firebrick\", alpha=0.5)\n",
    "p.add_layout(Title(text=\"Winning percentage\", align=\"center\"), \"left\")\n",
    "p.add_layout(Title(text=\"Payroll (in dollars)\", align=\"center\"), \"below\")\n",
    "show(p)"
   ]
  },
  {
   "cell_type": "markdown",
   "metadata": {},
   "source": [
    "### Linear regression"
   ]
  },
  {
   "cell_type": "code",
   "execution_count": 52,
   "metadata": {},
   "outputs": [
    {
     "data": {
      "text/html": [
       "<table class=\"simpletable\">\n",
       "<tr>\n",
       "        <td>Model:</td>               <td>OLS</td>         <td>Adj. R-squared:</td>     <td>0.034</td>  \n",
       "</tr>\n",
       "<tr>\n",
       "  <td>Dependent Variable:</td>       <td>wlpct</td>             <td>AIC:</td>         <td>-83.5078</td> \n",
       "</tr>\n",
       "<tr>\n",
       "         <td>Date:</td>        <td>2018-01-23 09:53</td>        <td>BIC:</td>         <td>-80.7054</td> \n",
       "</tr>\n",
       "<tr>\n",
       "   <td>No. Observations:</td>         <td>30</td>          <td>Log-Likelihood:</td>    <td>43.754</td>  \n",
       "</tr>\n",
       "<tr>\n",
       "       <td>Df Model:</td>              <td>1</td>           <td>F-statistic:</td>       <td>2.034</td>  \n",
       "</tr>\n",
       "<tr>\n",
       "     <td>Df Residuals:</td>           <td>28</td>        <td>Prob (F-statistic):</td>   <td>0.165</td>  \n",
       "</tr>\n",
       "<tr>\n",
       "      <td>R-squared:</td>            <td>0.068</td>            <td>Scale:</td>        <td>0.0033938</td>\n",
       "</tr>\n",
       "</table>\n",
       "<table class=\"simpletable\">\n",
       "<tr>\n",
       "          <td></td>          <th>Coef.</th> <th>Std.Err.</th>    <th>t</th>     <th>P>|t|</th> <th>[0.025</th>  <th>0.975]</th>\n",
       "</tr>\n",
       "<tr>\n",
       "  <th>const</th>            <td>0.4612</td>  <td>0.0292</td>  <td>15.7730</td> <td>0.0000</td> <td>0.4013</td>  <td>0.5210</td>\n",
       "</tr>\n",
       "<tr>\n",
       "  <th>payroll_millions</th> <td>0.0003</td>  <td>0.0002</td>  <td>1.4263</td>  <td>0.1648</td> <td>-0.0002</td> <td>0.0008</td>\n",
       "</tr>\n",
       "</table>\n",
       "<table class=\"simpletable\">\n",
       "<tr>\n",
       "     <td>Omnibus:</td>     <td>1.519</td>  <td>Durbin-Watson:</td>   <td>2.693</td>\n",
       "</tr>\n",
       "<tr>\n",
       "  <td>Prob(Omnibus):</td>  <td>0.468</td> <td>Jarque-Bera (JB):</td> <td>1.028</td>\n",
       "</tr>\n",
       "<tr>\n",
       "       <td>Skew:</td>     <td>-0.110</td>     <td>Prob(JB):</td>     <td>0.598</td>\n",
       "</tr>\n",
       "<tr>\n",
       "     <td>Kurtosis:</td>    <td>2.120</td>  <td>Condition No.:</td>    <td>333</td> \n",
       "</tr>\n",
       "</table>"
      ],
      "text/plain": [
       "<class 'statsmodels.iolib.summary2.Summary'>\n",
       "\"\"\"\n",
       "                 Results: Ordinary least squares\n",
       "==================================================================\n",
       "Model:              OLS              Adj. R-squared:     0.034    \n",
       "Dependent Variable: wlpct            AIC:                -83.5078 \n",
       "Date:               2018-01-23 09:53 BIC:                -80.7054 \n",
       "No. Observations:   30               Log-Likelihood:     43.754   \n",
       "Df Model:           1                F-statistic:        2.034    \n",
       "Df Residuals:       28               Prob (F-statistic): 0.165    \n",
       "R-squared:          0.068            Scale:              0.0033938\n",
       "------------------------------------------------------------------\n",
       "                     Coef.  Std.Err.    t    P>|t|   [0.025 0.975]\n",
       "------------------------------------------------------------------\n",
       "const                0.4612   0.0292 15.7730 0.0000  0.4013 0.5210\n",
       "payroll_millions     0.0003   0.0002  1.4263 0.1648 -0.0002 0.0008\n",
       "------------------------------------------------------------------\n",
       "Omnibus:              1.519         Durbin-Watson:           2.693\n",
       "Prob(Omnibus):        0.468         Jarque-Bera (JB):        1.028\n",
       "Skew:                 -0.110        Prob(JB):                0.598\n",
       "Kurtosis:             2.120         Condition No.:           333  \n",
       "==================================================================\n",
       "\n",
       "\"\"\""
      ]
     },
     "execution_count": 52,
     "metadata": {},
     "output_type": "execute_result"
    }
   ],
   "source": [
    "Y = dm.wlpct\n",
    "X = sm.add_constant(dm.payroll_millions)\n",
    "m1 = sm.OLS(Y, X).fit()\n",
    "m1.summary2()"
   ]
  },
  {
   "cell_type": "code",
   "execution_count": 53,
   "metadata": {},
   "outputs": [
    {
     "data": {
      "text/html": [
       "<table class=\"simpletable\">\n",
       "<tr>\n",
       "        <td>Model:</td>               <td>OLS</td>         <td>Adj. R-squared:</td>     <td>0.034</td>  \n",
       "</tr>\n",
       "<tr>\n",
       "  <td>Dependent Variable:</td>       <td>wlpct</td>             <td>AIC:</td>         <td>-83.5078</td> \n",
       "</tr>\n",
       "<tr>\n",
       "         <td>Date:</td>        <td>2018-01-23 09:53</td>        <td>BIC:</td>         <td>-80.7054</td> \n",
       "</tr>\n",
       "<tr>\n",
       "   <td>No. Observations:</td>         <td>30</td>          <td>Log-Likelihood:</td>    <td>43.754</td>  \n",
       "</tr>\n",
       "<tr>\n",
       "       <td>Df Model:</td>              <td>1</td>           <td>F-statistic:</td>       <td>2.034</td>  \n",
       "</tr>\n",
       "<tr>\n",
       "     <td>Df Residuals:</td>           <td>28</td>        <td>Prob (F-statistic):</td>   <td>0.165</td>  \n",
       "</tr>\n",
       "<tr>\n",
       "      <td>R-squared:</td>            <td>0.068</td>            <td>Scale:</td>        <td>0.0033938</td>\n",
       "</tr>\n",
       "</table>\n",
       "<table class=\"simpletable\">\n",
       "<tr>\n",
       "          <td></td>          <th>Coef.</th> <th>Std.Err.</th>    <th>t</th>     <th>P>|t|</th> <th>[0.025</th>  <th>0.975]</th>\n",
       "</tr>\n",
       "<tr>\n",
       "  <th>const</th>            <td>0.4612</td>  <td>0.0292</td>  <td>15.7730</td> <td>0.0000</td> <td>0.4013</td>  <td>0.5210</td>\n",
       "</tr>\n",
       "<tr>\n",
       "  <th>payroll_millions</th> <td>0.0003</td>  <td>0.0002</td>  <td>1.4263</td>  <td>0.1648</td> <td>-0.0002</td> <td>0.0008</td>\n",
       "</tr>\n",
       "</table>\n",
       "<table class=\"simpletable\">\n",
       "<tr>\n",
       "     <td>Omnibus:</td>     <td>1.519</td>  <td>Durbin-Watson:</td>   <td>2.693</td>\n",
       "</tr>\n",
       "<tr>\n",
       "  <td>Prob(Omnibus):</td>  <td>0.468</td> <td>Jarque-Bera (JB):</td> <td>1.028</td>\n",
       "</tr>\n",
       "<tr>\n",
       "       <td>Skew:</td>     <td>-0.110</td>     <td>Prob(JB):</td>     <td>0.598</td>\n",
       "</tr>\n",
       "<tr>\n",
       "     <td>Kurtosis:</td>    <td>2.120</td>  <td>Condition No.:</td>    <td>333</td> \n",
       "</tr>\n",
       "</table>"
      ],
      "text/plain": [
       "<class 'statsmodels.iolib.summary2.Summary'>\n",
       "\"\"\"\n",
       "                 Results: Ordinary least squares\n",
       "==================================================================\n",
       "Model:              OLS              Adj. R-squared:     0.034    \n",
       "Dependent Variable: wlpct            AIC:                -83.5078 \n",
       "Date:               2018-01-23 09:53 BIC:                -80.7054 \n",
       "No. Observations:   30               Log-Likelihood:     43.754   \n",
       "Df Model:           1                F-statistic:        2.034    \n",
       "Df Residuals:       28               Prob (F-statistic): 0.165    \n",
       "R-squared:          0.068            Scale:              0.0033938\n",
       "------------------------------------------------------------------\n",
       "                     Coef.  Std.Err.    t    P>|t|   [0.025 0.975]\n",
       "------------------------------------------------------------------\n",
       "const                0.4612   0.0292 15.7730 0.0000  0.4013 0.5210\n",
       "payroll_millions     0.0003   0.0002  1.4263 0.1648 -0.0002 0.0008\n",
       "------------------------------------------------------------------\n",
       "Omnibus:              1.519         Durbin-Watson:           2.693\n",
       "Prob(Omnibus):        0.468         Jarque-Bera (JB):        1.028\n",
       "Skew:                 -0.110        Prob(JB):                0.598\n",
       "Kurtosis:             2.120         Condition No.:           333  \n",
       "==================================================================\n",
       "\n",
       "\"\"\""
      ]
     },
     "execution_count": 53,
     "metadata": {},
     "output_type": "execute_result"
    }
   ],
   "source": [
    "m1 = sm.OLS(Y, X).fit()\n",
    "m1.summary2()"
   ]
  },
  {
   "cell_type": "code",
   "execution_count": 56,
   "metadata": {},
   "outputs": [
    {
     "data": {
      "text/plain": [
       "   team   payroll league  games  wins  losses  wlpct  runs  averuns  rundiff  \\\n",
       "25  HOU  44985800     AL    162    70      92   0.43  3.90     4.50    -0.60   \n",
       "19  MIA  52836900     NL    162    77      85   0.47  4.00     4.20    -0.20   \n",
       "15  ATL  76555673     NL    162    79      83   0.49  3.50     3.70    -0.10   \n",
       "9   OAK  77220900     AL    162    88      74   0.54  4.50     3.50     1.00   \n",
       "8   PIT  77340499     NL    162    88      74   0.54  4.20     3.90     0.30   \n",
       "\n",
       "     textleft textright  payroll_millions  WinHat1  \n",
       "25        NaN       HOU             44.99     0.48  \n",
       "19        MIA       NaN             52.84     0.48  \n",
       "15        ATL       NaN             76.56     0.49  \n",
       "9         NaN       NaN             77.22     0.49  \n",
       "8   PIT & OAK       NaN             77.34     0.49  "
      ]
     },
     "execution_count": 56,
     "metadata": {},
     "output_type": "execute_result"
    }
   ],
   "source": [
    "dm['WinHat1'] = m1.predict()\n",
    "dm.head()"
   ]
  },
  {
   "cell_type": "code",
   "execution_count": 57,
   "metadata": {},
   "outputs": [
    {
     "data": {
      "text/html": [
       "\n",
       "<div class=\"bk-root\">\n",
       "    <div class=\"bk-plotdiv\" id=\"616d233c-0e36-4a8c-87fa-48054da559d7\"></div>\n",
       "</div>"
      ]
     },
     "metadata": {},
     "output_type": "display_data"
    },
    {
     "data": {
      "application/javascript": [
       "(function(root) {\n",
       "  function embed_document(root) {\n",
       "    var docs_json = {\"e2bd1d60-24da-4300-9894-edbfa825cac1\":{\"roots\":{\"references\":[{\"attributes\":{\"callback\":null},\"id\":\"8625a0f2-a63a-4e0c-88dc-b18be7e6e318\",\"type\":\"Range1d\"},{\"attributes\":{},\"id\":\"ebcf581c-e7d8-48f6-90c1-188e3838a10f\",\"type\":\"ResetTool\"},{\"attributes\":{\"formatter\":{\"id\":\"ff60fbb6-fd59-47f1-a9d3-bad76485fefd\",\"type\":\"BasicTickFormatter\"},\"plot\":{\"id\":\"e235f476-5bae-4741-b3f6-0946c18df748\",\"subtype\":\"Figure\",\"type\":\"Plot\"},\"ticker\":{\"id\":\"cb298d9f-9007-4d8c-a216-e0ab9799488b\",\"type\":\"BasicTicker\"}},\"id\":\"dcb1e0e8-04c6-4039-bea3-dd04006edb1c\",\"type\":\"LinearAxis\"},{\"attributes\":{\"source\":{\"id\":\"b5b18b57-2ca0-446d-b43a-e06a0929e870\",\"type\":\"ColumnDataSource\"}},\"id\":\"71276500-48c8-460a-99b3-81923f33bdaf\",\"type\":\"CDSView\"},{\"attributes\":{\"data_source\":{\"id\":\"3860b547-35f8-4d67-874f-84f167422739\",\"type\":\"ColumnDataSource\"},\"glyph\":{\"id\":\"ef5f60cd-d95c-4947-b332-c9774a751a75\",\"type\":\"Circle\"},\"hover_glyph\":null,\"muted_glyph\":null,\"nonselection_glyph\":{\"id\":\"6f14ad8a-f218-477c-9fa3-a8f3056a955b\",\"type\":\"Circle\"},\"selection_glyph\":null,\"view\":{\"id\":\"8f5b024a-112c-4a66-b586-9b9f3059649c\",\"type\":\"CDSView\"}},\"id\":\"72fdb92d-f89d-4d6e-9da8-1d3b9a7ecf0c\",\"type\":\"GlyphRenderer\"},{\"attributes\":{\"formatter\":{\"id\":\"5ea6418b-c9cb-45e4-97b7-3b3323ca1548\",\"type\":\"BasicTickFormatter\"},\"plot\":{\"id\":\"e235f476-5bae-4741-b3f6-0946c18df748\",\"subtype\":\"Figure\",\"type\":\"Plot\"},\"ticker\":{\"id\":\"7a44fe61-864a-444b-b22d-9040b80b4ef5\",\"type\":\"BasicTicker\"}},\"id\":\"91a9d74b-8bbd-437e-ae02-e29b0fda6b90\",\"type\":\"LinearAxis\"},{\"attributes\":{\"source\":{\"id\":\"3860b547-35f8-4d67-874f-84f167422739\",\"type\":\"ColumnDataSource\"}},\"id\":\"8f5b024a-112c-4a66-b586-9b9f3059649c\",\"type\":\"CDSView\"},{\"attributes\":{\"callback\":null,\"column_names\":[\"x\",\"y\"],\"data\":{\"x\":{\"__ndarray__\":\"yjLEsS5+RkDeAgmKH2tKQEuRfCWQI1NA7uvAOSNOU0CGVFG8ylVTQPSHZp5cb1RAcVXZd0WCVECOdXEbDaBUQEz+J3/3wlRAPrSPFfwRVUBmZmZmZjpVQNKrAUpDI1ZAE2OZfoliVkCJQWDl0J5WQPjDz38PxVdAAVDFjVuuWUAJ+gs9YkVaQBZruMg9GFxAYYkHlE2BXEDMfXIUIHNeQHNoke18AWBAYVRSJ6AdYEAF24gnu49gQI7pCUu8y2BAyAbSxaZ3YkD7kSIyLPxjQFg89UiDsmVATuyhfaxwZkAZ5C7ClBpqQLbXgt4bJG5A\",\"dtype\":\"float64\",\"shape\":[30]},\"y\":{\"__ndarray__\":\"TfZyL5OB3j8zFSPJ5q3ePxSS3sDQM98/ltSGPZI33z9Y+VoaPzjfPyIJLvgVUd8/bMMUBMFS3z+P13GNYVXfP/vuoRJ2WN8/+F9blW5f3z/ytZ1O/2LfP65CbDGKd98/lyKIJx993z+QfG54cILfPyfrx5NlnN8/tigyrY/H3z+ilI5k4tTfP3L6KroR/t8/3X9GM6sD4D/uqsKDoBngP9fTdo1DK+A/Vt5eAL8t4D+C73/qzzfgP1GQnAgbPeA/URCh7Npi4D/+QpEjIYXgP0SNcnLMq+A/lu9G+JK84D+D37VPUA/hP6qmBBx9auE/\",\"dtype\":\"float64\",\"shape\":[30]}}},\"id\":\"b5b18b57-2ca0-446d-b43a-e06a0929e870\",\"type\":\"ColumnDataSource\"},{\"attributes\":{\"plot\":null,\"text\":\"Relationship between payroll and winning percentage\"},\"id\":\"52bc7188-407a-4a56-9583-f8be6511df95\",\"type\":\"Title\"},{\"attributes\":{\"dimension\":1,\"plot\":{\"id\":\"e235f476-5bae-4741-b3f6-0946c18df748\",\"subtype\":\"Figure\",\"type\":\"Plot\"},\"ticker\":{\"id\":\"7a44fe61-864a-444b-b22d-9040b80b4ef5\",\"type\":\"BasicTicker\"}},\"id\":\"ccacc4dc-c003-4eb3-90c8-5815a4a3dca4\",\"type\":\"Grid\"},{\"attributes\":{\"align\":\"center\",\"plot\":{\"id\":\"e235f476-5bae-4741-b3f6-0946c18df748\",\"subtype\":\"Figure\",\"type\":\"Plot\"},\"text\":\"Winning percentage\"},\"id\":\"895819cc-ab15-4d65-87f3-b700cb1fa55c\",\"type\":\"Title\"},{\"attributes\":{\"line_alpha\":{\"value\":0.8},\"x\":{\"field\":\"x\"},\"y\":{\"field\":\"y\"}},\"id\":\"76cdffc0-8d27-4c52-98f0-48e66cc3a652\",\"type\":\"Line\"},{\"attributes\":{\"data_source\":{\"id\":\"b5b18b57-2ca0-446d-b43a-e06a0929e870\",\"type\":\"ColumnDataSource\"},\"glyph\":{\"id\":\"76cdffc0-8d27-4c52-98f0-48e66cc3a652\",\"type\":\"Line\"},\"hover_glyph\":null,\"muted_glyph\":null,\"nonselection_glyph\":{\"id\":\"c0831fab-c8c5-4a9d-bc65-672b10d15532\",\"type\":\"Line\"},\"selection_glyph\":null,\"view\":{\"id\":\"71276500-48c8-460a-99b3-81923f33bdaf\",\"type\":\"CDSView\"}},\"id\":\"1585f40f-63e2-40de-a8c1-9256ce6ab5bb\",\"type\":\"GlyphRenderer\"},{\"attributes\":{\"fill_alpha\":{\"value\":0.1},\"fill_color\":{\"value\":\"#1f77b4\"},\"line_alpha\":{\"value\":0.1},\"line_color\":{\"value\":\"#1f77b4\"},\"size\":{\"units\":\"screen\",\"value\":10},\"x\":{\"field\":\"x\"},\"y\":{\"field\":\"y\"}},\"id\":\"6f14ad8a-f218-477c-9fa3-a8f3056a955b\",\"type\":\"Circle\"},{\"attributes\":{},\"id\":\"cb298d9f-9007-4d8c-a216-e0ab9799488b\",\"type\":\"BasicTicker\"},{\"attributes\":{},\"id\":\"b895e3e9-ae45-4b33-88d2-a3c29ee6143a\",\"type\":\"PanTool\"},{\"attributes\":{\"plot\":{\"id\":\"e235f476-5bae-4741-b3f6-0946c18df748\",\"subtype\":\"Figure\",\"type\":\"Plot\"},\"ticker\":{\"id\":\"cb298d9f-9007-4d8c-a216-e0ab9799488b\",\"type\":\"BasicTicker\"}},\"id\":\"abe3fd25-db73-4277-ae26-f0c76ac7a8ae\",\"type\":\"Grid\"},{\"attributes\":{\"line_alpha\":{\"value\":0.1},\"line_color\":{\"value\":\"#1f77b4\"},\"x\":{\"field\":\"x\"},\"y\":{\"field\":\"y\"}},\"id\":\"c0831fab-c8c5-4a9d-bc65-672b10d15532\",\"type\":\"Line\"},{\"attributes\":{},\"id\":\"772d1125-66d5-4e3c-b900-43eb164b5ee5\",\"type\":\"LinearScale\"},{\"attributes\":{\"callback\":null,\"column_names\":[\"x\",\"y\"],\"data\":{\"x\":{\"__ndarray__\":\"yjLEsS5+RkDeAgmKH2tKQEuRfCWQI1NA7uvAOSNOU0CGVFG8ylVTQPSHZp5cb1RAcVXZd0WCVECOdXEbDaBUQEz+J3/3wlRAPrSPFfwRVUBmZmZmZjpVQNKrAUpDI1ZAE2OZfoliVkCJQWDl0J5WQPjDz38PxVdAAVDFjVuuWUAJ+gs9YkVaQBZruMg9GFxAYYkHlE2BXEDMfXIUIHNeQHNoke18AWBAYVRSJ6AdYEAF24gnu49gQI7pCUu8y2BAyAbSxaZ3YkD7kSIyLPxjQFg89UiDsmVATuyhfaxwZkAZ5C7ClBpqQLbXgt4bJG5A\",\"dtype\":\"float64\",\"shape\":[30]},\"y\":{\"__ndarray__\":\"2s73U+Ol2z9mZmZmZmbePwisHFpkO98/xks3iUFg4T/GSzeJQWDhP2ZmZmZmZt4/ZmZmZmZm3j/NzMzMzMzgP3e+nxov3dw/CKwcWmQ73z/azvdT46XbP3e+nxov3dw/yXa+nxov4T/EILByaJHhP0A1XrpJDNo//tR46SYx4D9g5dAi2/niP2q8dJMYBN4/mG4Sg8DK4T9I4XoUrkfZP1yPwvUoXOM//Knx0k1i4D/l0CLb+X7aP2Dl0CLb+eI/xks3iUFg4T/UeOkmMQjcP5huEoPAyuE/d76fGi/d3D/6fmq8dJPgP4/C9Shcj+I/\",\"dtype\":\"float64\",\"shape\":[30]}}},\"id\":\"3860b547-35f8-4d67-874f-84f167422739\",\"type\":\"ColumnDataSource\"},{\"attributes\":{\"overlay\":{\"id\":\"c3941b7d-3438-4efe-abdf-6bca139cb65a\",\"type\":\"BoxAnnotation\"}},\"id\":\"2b881670-f51b-420f-99a6-088fe8cea911\",\"type\":\"BoxZoomTool\"},{\"attributes\":{},\"id\":\"53f16ae3-7483-4863-b694-1dde04d6aecb\",\"type\":\"SaveTool\"},{\"attributes\":{},\"id\":\"7a44fe61-864a-444b-b22d-9040b80b4ef5\",\"type\":\"BasicTicker\"},{\"attributes\":{\"align\":\"center\",\"plot\":{\"id\":\"e235f476-5bae-4741-b3f6-0946c18df748\",\"subtype\":\"Figure\",\"type\":\"Plot\"},\"text\":\"Payroll (in dollars)\"},\"id\":\"251ccffc-c0d5-4aeb-a762-4b0e9f9fdb54\",\"type\":\"Title\"},{\"attributes\":{\"below\":[{\"id\":\"dcb1e0e8-04c6-4039-bea3-dd04006edb1c\",\"type\":\"LinearAxis\"},{\"id\":\"251ccffc-c0d5-4aeb-a762-4b0e9f9fdb54\",\"type\":\"Title\"}],\"left\":[{\"id\":\"91a9d74b-8bbd-437e-ae02-e29b0fda6b90\",\"type\":\"LinearAxis\"},{\"id\":\"895819cc-ab15-4d65-87f3-b700cb1fa55c\",\"type\":\"Title\"}],\"plot_height\":400,\"plot_width\":700,\"renderers\":[{\"id\":\"dcb1e0e8-04c6-4039-bea3-dd04006edb1c\",\"type\":\"LinearAxis\"},{\"id\":\"abe3fd25-db73-4277-ae26-f0c76ac7a8ae\",\"type\":\"Grid\"},{\"id\":\"91a9d74b-8bbd-437e-ae02-e29b0fda6b90\",\"type\":\"LinearAxis\"},{\"id\":\"ccacc4dc-c003-4eb3-90c8-5815a4a3dca4\",\"type\":\"Grid\"},{\"id\":\"c3941b7d-3438-4efe-abdf-6bca139cb65a\",\"type\":\"BoxAnnotation\"},{\"id\":\"72fdb92d-f89d-4d6e-9da8-1d3b9a7ecf0c\",\"type\":\"GlyphRenderer\"},{\"id\":\"1585f40f-63e2-40de-a8c1-9256ce6ab5bb\",\"type\":\"GlyphRenderer\"},{\"id\":\"895819cc-ab15-4d65-87f3-b700cb1fa55c\",\"type\":\"Title\"},{\"id\":\"251ccffc-c0d5-4aeb-a762-4b0e9f9fdb54\",\"type\":\"Title\"}],\"title\":{\"id\":\"52bc7188-407a-4a56-9583-f8be6511df95\",\"type\":\"Title\"},\"toolbar\":{\"id\":\"92611955-3a79-4b06-a6d6-42894be47a68\",\"type\":\"Toolbar\"},\"x_range\":{\"id\":\"8e200e9a-15eb-4ecb-8973-2b1efd919be1\",\"type\":\"DataRange1d\"},\"x_scale\":{\"id\":\"772d1125-66d5-4e3c-b900-43eb164b5ee5\",\"type\":\"LinearScale\"},\"y_range\":{\"id\":\"8625a0f2-a63a-4e0c-88dc-b18be7e6e318\",\"type\":\"Range1d\"},\"y_scale\":{\"id\":\"4845094b-85ea-4fbe-b6db-968bd98842e8\",\"type\":\"LinearScale\"}},\"id\":\"e235f476-5bae-4741-b3f6-0946c18df748\",\"subtype\":\"Figure\",\"type\":\"Plot\"},{\"attributes\":{\"callback\":null},\"id\":\"8e200e9a-15eb-4ecb-8973-2b1efd919be1\",\"type\":\"DataRange1d\"},{\"attributes\":{},\"id\":\"4845094b-85ea-4fbe-b6db-968bd98842e8\",\"type\":\"LinearScale\"},{\"attributes\":{},\"id\":\"ac636261-7e1b-4ef7-b2a3-5f921978f500\",\"type\":\"HelpTool\"},{\"attributes\":{\"active_drag\":\"auto\",\"active_inspect\":\"auto\",\"active_scroll\":\"auto\",\"active_tap\":\"auto\",\"tools\":[{\"id\":\"b895e3e9-ae45-4b33-88d2-a3c29ee6143a\",\"type\":\"PanTool\"},{\"id\":\"3fc76b23-a0a3-4f8e-a17e-2a0aa0af8096\",\"type\":\"WheelZoomTool\"},{\"id\":\"2b881670-f51b-420f-99a6-088fe8cea911\",\"type\":\"BoxZoomTool\"},{\"id\":\"53f16ae3-7483-4863-b694-1dde04d6aecb\",\"type\":\"SaveTool\"},{\"id\":\"ebcf581c-e7d8-48f6-90c1-188e3838a10f\",\"type\":\"ResetTool\"},{\"id\":\"ac636261-7e1b-4ef7-b2a3-5f921978f500\",\"type\":\"HelpTool\"}]},\"id\":\"92611955-3a79-4b06-a6d6-42894be47a68\",\"type\":\"Toolbar\"},{\"attributes\":{},\"id\":\"ff60fbb6-fd59-47f1-a9d3-bad76485fefd\",\"type\":\"BasicTickFormatter\"},{\"attributes\":{},\"id\":\"3fc76b23-a0a3-4f8e-a17e-2a0aa0af8096\",\"type\":\"WheelZoomTool\"},{\"attributes\":{\"fill_alpha\":{\"value\":0.8},\"fill_color\":{\"value\":\"firebrick\"},\"line_alpha\":{\"value\":0.8},\"line_color\":{\"value\":\"firebrick\"},\"size\":{\"units\":\"screen\",\"value\":10},\"x\":{\"field\":\"x\"},\"y\":{\"field\":\"y\"}},\"id\":\"ef5f60cd-d95c-4947-b332-c9774a751a75\",\"type\":\"Circle\"},{\"attributes\":{},\"id\":\"5ea6418b-c9cb-45e4-97b7-3b3323ca1548\",\"type\":\"BasicTickFormatter\"},{\"attributes\":{\"bottom_units\":\"screen\",\"fill_alpha\":{\"value\":0.5},\"fill_color\":{\"value\":\"lightgrey\"},\"left_units\":\"screen\",\"level\":\"overlay\",\"line_alpha\":{\"value\":1.0},\"line_color\":{\"value\":\"black\"},\"line_dash\":[4,4],\"line_width\":{\"value\":2},\"plot\":null,\"render_mode\":\"css\",\"right_units\":\"screen\",\"top_units\":\"screen\"},\"id\":\"c3941b7d-3438-4efe-abdf-6bca139cb65a\",\"type\":\"BoxAnnotation\"}],\"root_ids\":[\"e235f476-5bae-4741-b3f6-0946c18df748\"]},\"title\":\"Bokeh Application\",\"version\":\"0.12.10\"}};\n",
       "    var render_items = [{\"docid\":\"e2bd1d60-24da-4300-9894-edbfa825cac1\",\"elementid\":\"616d233c-0e36-4a8c-87fa-48054da559d7\",\"modelid\":\"e235f476-5bae-4741-b3f6-0946c18df748\"}];\n",
       "\n",
       "    root.Bokeh.embed.embed_items(docs_json, render_items);\n",
       "  }\n",
       "\n",
       "  if (root.Bokeh !== undefined) {\n",
       "    embed_document(root);\n",
       "  } else {\n",
       "    var attempts = 0;\n",
       "    var timer = setInterval(function(root) {\n",
       "      if (root.Bokeh !== undefined) {\n",
       "        embed_document(root);\n",
       "        clearInterval(timer);\n",
       "      }\n",
       "      attempts++;\n",
       "      if (attempts > 100) {\n",
       "        console.log(\"Bokeh: ERROR: Unable to embed document because BokehJS library is missing\")\n",
       "        clearInterval(timer);\n",
       "      }\n",
       "    }, 10, root)\n",
       "  }\n",
       "})(window);"
      ],
      "application/vnd.bokehjs_exec.v0+json": ""
     },
     "metadata": {
      "application/vnd.bokehjs_exec.v0+json": {
       "id": "e235f476-5bae-4741-b3f6-0946c18df748"
      }
     },
     "output_type": "display_data"
    }
   ],
   "source": [
    "#sort values for line plot\n",
    "dm = dm.sort_values(['WinHat1']) \n",
    "# Scatter plot\n",
    "p = figure(title='Relationship between payroll and winning percentage',\n",
    "           plot_width=700, \n",
    "           plot_height=400,\n",
    "          y_range= (0,1))\n",
    "p.circle(x=dm.payroll_millions, y=dm.wlpct, size=10, color=\"firebrick\", alpha=0.8)\n",
    "p.line(x=dm.payroll_millions, y=dm.WinHat1, color=\"black\", alpha=0.8)\n",
    "p.add_layout(Title(text=\"Winning percentage\", align=\"center\"), \"left\")\n",
    "p.add_layout(Title(text=\"Payroll (in dollars)\", align=\"center\"), \"below\")\n",
    "\n",
    "show(p)"
   ]
  },
  {
   "cell_type": "code",
   "execution_count": null,
   "metadata": {
    "collapsed": true
   },
   "outputs": [],
   "source": []
  }
 ],
 "metadata": {
  "anaconda-cloud": {},
  "kernelspec": {
   "display_name": "Python 3",
   "language": "python",
   "name": "python3"
  },
  "language_info": {
   "codemirror_mode": {
    "name": "ipython",
    "version": 3
   },
   "file_extension": ".py",
   "mimetype": "text/x-python",
   "name": "python",
   "nbconvert_exporter": "python",
   "pygments_lexer": "ipython3",
   "version": "3.6.3"
  }
 },
 "nbformat": 4,
 "nbformat_minor": 1
}
