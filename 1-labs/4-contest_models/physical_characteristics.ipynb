{
 "cells": [
  {
   "cell_type": "markdown",
   "metadata": {
    "collapsed": true
   },
   "source": [
    "Estimators\n",
    "* Desirable properties: unbiased and efficient\n",
    "* Examples: mean, conditional means\n",
    "\n",
    "Linear regression\n",
    "* Linear regression estimates the slopes and intercepts of the population regression line\n",
    "* Measures the linear relationship between explanitory variables and a response variable\n",
    "* The slope of the population regression line is the expected effect on Y of a unit change in X        "
   ]
  },
  {
   "cell_type": "markdown",
   "metadata": {},
   "source": [
    "The general linear model can be expressed as,\n",
    "\n",
    "$$y_i = \\beta_0 + \\beta_1 x_i + \\mu_i, i=1...n$$\n",
    "\n",
    "* y is the dependent variable\n",
    "* x is the independent variable\n",
    "* The $b_0$ = intercept\n",
    "* $b_1$ = slope\n",
    "* $mu_i$ = the regression residual or error term\n",
    "\n",
    "Ordinary Least Squares (OLS)\n",
    "    \n",
    "* An estimator that estimates the conditioanl means of the population parameters\n",
    "* Minimizes the average squared difference between the actual values of y and the estmated lines predicted values\n",
    "\n",
    "Consider $winpercent_i = \\beta_0 + \\beta_1 firstgoal_i + \\mu_i, i=1...n$    \n",
    "\n",
    "* unit of observation is the a season-team for $i=1...30$\n",
    "* $winpercent_i$: a team season-level winning percentage\n",
    "* $firstgoal_i$: the proportion of total season games the team scored first\n",
    "* The intercept, $b_0$, (taken literally) is the estimated number of season wins if the team had 0 first goal games (i.e., $x=0$)\n",
    "* The paramater, $b_1$, is the esimated change in a team's winning percentage for each 1 point increase in the proportion of fist goal games\n",
    "\n",
    "Specification\n",
    "\n",
    "* Continuous variables: parameter estimates are slope effects\n",
    "* Categorical data represented as a series of indicator variables (i.e. fixed effects): parameter estimates are shift effects relative to the intercept/constant\n",
    "* Binary (1/0) dependent variables are linear probability models\n",
    "* Generally obtain unbiased slope effects\n",
    "* Potentially predict outside the 0-1 interval"
   ]
  },
  {
   "cell_type": "markdown",
   "metadata": {},
   "source": [
    "Examine the impact of physical characteristics on winning"
   ]
  },
  {
   "cell_type": "code",
   "execution_count": null,
   "metadata": {},
   "outputs": [],
   "source": [
    "%matplotlib inline\n",
    "import os\n",
    "import sys\n",
    "import numpy \n",
    "import pandas \n",
    "import matplotlib.pyplot as plt\n",
    "import pylab\n",
    "\n",
    "# imports regression library\n",
    "# OLS: ordinary least squares (estimation technique used to estimate the linear regression model)\n",
    "import statsmodels.api as sm\n",
    "from statsmodels.formula.api import ols\n",
    "    \n",
    "# Set some Pandas options\n",
    "pandas.set_option('display.notebook_repr_html', True)\n",
    "pandas.set_option('display.max_columns', 40)\n",
    "pandas.set_option('display.max_rows', 10)\n",
    "pandas.options.display.float_format = '{:,.4f}'.format"
   ]
  },
  {
   "cell_type": "code",
   "execution_count": null,
   "metadata": {},
   "outputs": [],
   "source": [
    "dm = pandas.read_csv('2010game_physical.csv')"
   ]
  },
  {
   "cell_type": "code",
   "execution_count": null,
   "metadata": {},
   "outputs": [],
   "source": [
    "# dm.columns.tolist()\n",
    "# len(dm)\n",
    "# dm.head()\n",
    "# dm.tail()\n",
    "# dm.describe()\n",
    "# dm.dtypes"
   ]
  },
  {
   "cell_type": "code",
   "execution_count": null,
   "metadata": {},
   "outputs": [],
   "source": [
    "dm.head()\n"
   ]
  },
  {
   "cell_type": "code",
   "execution_count": null,
   "metadata": {},
   "outputs": [],
   "source": [
    "dm.describe()"
   ]
  },
  {
   "cell_type": "markdown",
   "metadata": {},
   "source": [
    "# generate variables"
   ]
  },
  {
   "cell_type": "code",
   "execution_count": null,
   "metadata": {},
   "outputs": [],
   "source": [
    "dm['dGoals'] = dm['homeGoals'] - dm['awayGoals'] #regulation score-margin\n",
    "\n",
    "dm['homeWin'] = dm.apply(lambda x: 1 if (x['homeTeam'] == x['winteamcode']) else 0, axis=1) #home win team indicator variable\n",
    "dm['ishwin'] = numpy.where(dm['homeTeam']==dm['winteamcode'], 1 , 0)\n",
    "\n",
    "# differences\n",
    "dm['dAge'] =  dm['homeAge']-dm['awayAge']\n",
    "dm['dHeight'] = dm['homeHeight']-dm['awayHeight']\n",
    "dm['dWeight'] = dm['homeWeight']-dm['awayHeight']\n",
    "\n",
    "dm['lnDAge'] = numpy.log(dm['homeAge']/dm['awayAge'])\n",
    "dm['lnDHeight'] = numpy.log(dm['homeHeight']/dm['awayHeight'])\n",
    "dm['lnDWeight'] = numpy.log(dm['homeWeight']/dm['awayWeight'])\n",
    "\n",
    "dm['DSalary'] = dm['homeSalary'] - dm['awaySalary']\n",
    "\n",
    "# logs\n",
    "dm['lnhsalary'] = numpy.log(dm['homeSalary'])\n",
    "dm['lnasalary'] = numpy.log(dm['awaySalary'])\n",
    "dm['lnDSalary'] = numpy.log(dm['homeSalary']/dm['awaySalary'])\n"
   ]
  },
  {
   "cell_type": "code",
   "execution_count": null,
   "metadata": {
    "scrolled": true
   },
   "outputs": [],
   "source": [
    "plt.hist(dm['homeGoals'])"
   ]
  },
  {
   "cell_type": "markdown",
   "metadata": {},
   "source": [
    "Estimate the impact of salary on goals scored: $hgoals_i = \\beta_0 + \\beta_1 hsalary_i  + \\mu_i$"
   ]
  },
  {
   "cell_type": "code",
   "execution_count": null,
   "metadata": {},
   "outputs": [],
   "source": [
    "# note, a vector of ones is included for the constant/intercept term\n",
    "\n",
    "Y = dm['homeGoals']\n",
    "X = sm.add_constant(dm['homeSalary'])\n",
    "\n",
    "m1 = sm.OLS(Y, X).fit()\n",
    "m1.summary2()"
   ]
  },
  {
   "cell_type": "code",
   "execution_count": null,
   "metadata": {},
   "outputs": [],
   "source": [
    "m1.params"
   ]
  },
  {
   "cell_type": "markdown",
   "metadata": {},
   "source": [
    "$\\beta_0=2.26$ \n",
    "\n",
    "$\\beta_1=0.014$ \n",
    "\n",
    "A one million dollar increase in salary resulting in an increase of 0.014 goals per game\n",
    "\n",
    "Taken literally the constant represents the number of goals scored per game with a home salary of 0 dollars."
   ]
  },
  {
   "cell_type": "code",
   "execution_count": null,
   "metadata": {
    "scrolled": true
   },
   "outputs": [],
   "source": [
    "# embed the variables into the equation\n",
    "temp = sm.OLS(dm['homeGoals'],sm.add_constant(dm['homeSalary'])).fit()\n",
    "temp.summary2()"
   ]
  },
  {
   "cell_type": "markdown",
   "metadata": {},
   "source": [
    "Estimate the impact of salary on goals scored: $hgoals_i = \\beta_0 + \\beta_1 ln(hsalary_i)  + \\mu_i$"
   ]
  },
  {
   "cell_type": "code",
   "execution_count": null,
   "metadata": {},
   "outputs": [],
   "source": [
    "dm.head()"
   ]
  },
  {
   "cell_type": "code",
   "execution_count": null,
   "metadata": {
    "scrolled": false
   },
   "outputs": [],
   "source": [
    "temp = sm.OLS(dm['homeGoals'],sm.add_constant(dm['lnhsalary'])).fit()\n",
    "temp.summary()"
   ]
  },
  {
   "cell_type": "markdown",
   "metadata": {},
   "source": [
    "Logs transfrom the data into percent changes\n",
    "\n",
    "A one percent increase in salary results in an increase of 0.40 goals per game"
   ]
  },
  {
   "cell_type": "markdown",
   "metadata": {},
   "source": [
    "$$hgoals_i = \\beta_0 + \\beta_1 lnhsalary_i + \\beta_2 lnasalary_i + mu_i$$"
   ]
  },
  {
   "cell_type": "code",
   "execution_count": null,
   "metadata": {
    "scrolled": true
   },
   "outputs": [],
   "source": [
    "temp = sm.OLS(dm['homeGoals'],sm.add_constant(dm[['lnhsalary', 'lnasalary']])).fit()\n",
    "temp.summary()"
   ]
  },
  {
   "cell_type": "code",
   "execution_count": null,
   "metadata": {},
   "outputs": [],
   "source": [
    "temp = sm.OLS(dm['dGoals'],sm.add_constant(dm[['lnhsalary', 'lnasalary']])).fit()\n",
    "temp.summary()"
   ]
  },
  {
   "cell_type": "code",
   "execution_count": null,
   "metadata": {},
   "outputs": [],
   "source": [
    "plt.hist(dm['awayGoals'])"
   ]
  },
  {
   "cell_type": "code",
   "execution_count": null,
   "metadata": {},
   "outputs": [],
   "source": [
    "plt.hist(dm['dGoals'])"
   ]
  },
  {
   "cell_type": "markdown",
   "metadata": {},
   "source": [
    "Estimate the impact of salary on goals allowed: $hgoals_i = \\beta_0 + \\beta_1 ln(asalary_i)  + \\mu_i$"
   ]
  },
  {
   "cell_type": "code",
   "execution_count": null,
   "metadata": {},
   "outputs": [],
   "source": [
    "temp = sm.OLS(dm['homeGoals'],sm.add_constant(dm['awaySalary'])).fit()\n",
    "temp.summary2()"
   ]
  },
  {
   "cell_type": "markdown",
   "metadata": {},
   "source": [
    "# Contest model \n",
    "\n",
    "Represent the data relative to a team (e.g. home)\n",
    "\n",
    "Difference: $$hwin_i = \\beta_0 + \\beta_1 (hsalary_i - asalary_i) + \\mu_i $$\n",
    "Difference: $$dgoals_i = \\beta_0 + \\beta_1 (hsalary_i - asalary_i) + \\mu_i $$\n",
    "\n",
    "Log difference: $$hwin_i = \\beta_0 + \\beta_1 ln(hsalary_i/asalary_i) + \\mu_i $$\n",
    "Log difference: $$dgoals_i = \\beta_0 + \\beta_1 ln(hsalary_i/asalary_i) + \\mu_i $$\n"
   ]
  },
  {
   "cell_type": "code",
   "execution_count": null,
   "metadata": {},
   "outputs": [],
   "source": [
    "##Difference\n",
    "temp = sm.OLS(dm['dGoals'],sm.add_constant(dm['DSalary'])).fit()\n",
    "temp.summary()"
   ]
  },
  {
   "cell_type": "code",
   "execution_count": null,
   "metadata": {
    "scrolled": true
   },
   "outputs": [],
   "source": [
    "temp = sm.OLS(dm['dGoals'],sm.add_constant(dm['lnDSalary'])).fit()\n",
    "temp.summary()"
   ]
  },
  {
   "cell_type": "markdown",
   "metadata": {},
   "source": [
    "A one percent increase in the difference in team salaries increases the goal differential by 0.22 goals per game"
   ]
  },
  {
   "cell_type": "code",
   "execution_count": null,
   "metadata": {},
   "outputs": [],
   "source": [
    "temp = sm.OLS(dm['homeWin'],sm.add_constant(dm['lnDSalary'])).fit()\n",
    "temp.summary()"
   ]
  },
  {
   "cell_type": "markdown",
   "metadata": {},
   "source": [
    "A one percent increase in the difference in team salaries increases the probability of a win by 0.23 points.\n",
    "\n",
    "The home team advantage is 0.17 probabability points (0.5173 - 0.5000)"
   ]
  }
 ],
 "metadata": {
  "anaconda-cloud": {},
  "kernelspec": {
   "display_name": "Python 3",
   "language": "python",
   "name": "python3"
  },
  "language_info": {
   "codemirror_mode": {
    "name": "ipython",
    "version": 3
   },
   "file_extension": ".py",
   "mimetype": "text/x-python",
   "name": "python",
   "nbconvert_exporter": "python",
   "pygments_lexer": "ipython3",
   "version": "3.6.3"
  }
 },
 "nbformat": 4,
 "nbformat_minor": 1
}
