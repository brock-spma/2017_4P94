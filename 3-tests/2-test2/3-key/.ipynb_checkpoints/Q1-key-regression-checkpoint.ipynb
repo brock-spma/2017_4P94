{
 "cells": [
  {
   "cell_type": "markdown",
   "metadata": {},
   "source": [
    "# Q1 - Regression analysis: MLB\n",
    "\n",
    "Conduct an analysis to determine the impact of MLB payroll and wins above replacement statistics (i.e., WAR) on a team's regular season rank position. In particular, use Ordinary Least Squares (i.e. OLS) to estimate the following two model specifications:\n",
    "\n",
    "\n",
    "(1): $rank_{s,t} = \\beta_0 + \\beta_1 ln(Playroll_{s,t}) + \\epsilon_{s,t} $\n",
    "\n",
    "(2): $rank_{s,t} = \\beta_0 + \\beta_1 ln(Playroll_{s,t}) + \\beta_2 WAR_{s,t} + \\epsilon_{s,t} $\n",
    "\n",
    "Interpret the regression results of each equation.\n",
    "\n"
   ]
  },
  {
   "cell_type": "code",
   "execution_count": 34,
   "metadata": {},
   "outputs": [],
   "source": [
    "import os\n",
    "import sys\n",
    "import pandas\n",
    "import numpy\n",
    "import matplotlib\n",
    "import matplotlib.pyplot as plt\n",
    "%matplotlib notebook\n",
    "\n",
    "import statsmodels.api as sm\n",
    "\n",
    "pandas.set_option('display.notebook_repr_html', True)\n",
    "pandas.set_option('display.max_columns', 40)\n",
    "pandas.set_option('display.max_rows', 25)\n",
    "pandas.set_option('precision', 4)"
   ]
  },
  {
   "cell_type": "code",
   "execution_count": 35,
   "metadata": {},
   "outputs": [
    {
     "data": {
      "text/html": [
       "<div>\n",
       "<style>\n",
       "    .dataframe thead tr:only-child th {\n",
       "        text-align: right;\n",
       "    }\n",
       "\n",
       "    .dataframe thead th {\n",
       "        text-align: left;\n",
       "    }\n",
       "\n",
       "    .dataframe tbody tr th {\n",
       "        vertical-align: top;\n",
       "    }\n",
       "</style>\n",
       "<table border=\"1\" class=\"dataframe\">\n",
       "  <thead>\n",
       "    <tr style=\"text-align: right;\">\n",
       "      <th></th>\n",
       "      <th>Team</th>\n",
       "      <th>Year</th>\n",
       "      <th>Payroll</th>\n",
       "      <th>Rank</th>\n",
       "      <th>OWAR</th>\n",
       "      <th>DWAR</th>\n",
       "      <th>PWAR</th>\n",
       "      <th>WAR</th>\n",
       "    </tr>\n",
       "  </thead>\n",
       "  <tbody>\n",
       "    <tr>\n",
       "      <th>0</th>\n",
       "      <td>ARI</td>\n",
       "      <td>2014</td>\n",
       "      <td>1.0812e+08</td>\n",
       "      <td>17</td>\n",
       "      <td>14.1</td>\n",
       "      <td>1.2</td>\n",
       "      <td>2.9</td>\n",
       "      <td>18.2</td>\n",
       "    </tr>\n",
       "    <tr>\n",
       "      <th>1</th>\n",
       "      <td>ARI</td>\n",
       "      <td>2013</td>\n",
       "      <td>9.0205e+07</td>\n",
       "      <td>20</td>\n",
       "      <td>18.8</td>\n",
       "      <td>7.3</td>\n",
       "      <td>4.7</td>\n",
       "      <td>30.8</td>\n",
       "    </tr>\n",
       "    <tr>\n",
       "      <th>2</th>\n",
       "      <td>ARI</td>\n",
       "      <td>2012</td>\n",
       "      <td>7.7163e+07</td>\n",
       "      <td>23</td>\n",
       "      <td>19.2</td>\n",
       "      <td>2.0</td>\n",
       "      <td>14.4</td>\n",
       "      <td>35.6</td>\n",
       "    </tr>\n",
       "    <tr>\n",
       "      <th>3</th>\n",
       "      <td>ARI</td>\n",
       "      <td>2011</td>\n",
       "      <td>6.5604e+07</td>\n",
       "      <td>24</td>\n",
       "      <td>20.3</td>\n",
       "      <td>6.5</td>\n",
       "      <td>8.0</td>\n",
       "      <td>34.8</td>\n",
       "    </tr>\n",
       "    <tr>\n",
       "      <th>4</th>\n",
       "      <td>ARI</td>\n",
       "      <td>2010</td>\n",
       "      <td>7.0531e+07</td>\n",
       "      <td>25</td>\n",
       "      <td>14.7</td>\n",
       "      <td>2.5</td>\n",
       "      <td>0.1</td>\n",
       "      <td>17.3</td>\n",
       "    </tr>\n",
       "  </tbody>\n",
       "</table>\n",
       "</div>"
      ],
      "text/plain": [
       "  Team  Year     Payroll  Rank  OWAR  DWAR  PWAR   WAR\n",
       "0  ARI  2014  1.0812e+08    17  14.1   1.2   2.9  18.2\n",
       "1  ARI  2013  9.0205e+07    20  18.8   7.3   4.7  30.8\n",
       "2  ARI  2012  7.7163e+07    23  19.2   2.0  14.4  35.6\n",
       "3  ARI  2011  6.5604e+07    24  20.3   6.5   8.0  34.8\n",
       "4  ARI  2010  7.0531e+07    25  14.7   2.5   0.1  17.3"
      ]
     },
     "execution_count": 35,
     "metadata": {},
     "output_type": "execute_result"
    }
   ],
   "source": [
    "dm = pandas.read_csv('MLBSeasonTeamPayroll.csv')\n",
    "dm = dm.drop(['Start Pay'], axis=1)\n",
    "dm = dm.rename(columns={'End Pay': 'Payroll'})\n",
    "dm = dm.rename(columns={'End Rank': 'Rank'})\n",
    "dm.head()"
   ]
  },
  {
   "cell_type": "markdown",
   "metadata": {},
   "source": [
    "## Create columns"
   ]
  },
  {
   "cell_type": "code",
   "execution_count": 36,
   "metadata": {},
   "outputs": [],
   "source": [
    "dm['pay'] = dm.Payroll/1000000\n",
    "dm['lnpay'] = numpy.log(dm.Payroll)"
   ]
  },
  {
   "cell_type": "markdown",
   "metadata": {},
   "source": [
    "### Summary statistics"
   ]
  },
  {
   "cell_type": "code",
   "execution_count": 37,
   "metadata": {},
   "outputs": [
    {
     "data": {
      "text/html": [
       "<div>\n",
       "<style>\n",
       "    .dataframe thead tr:only-child th {\n",
       "        text-align: right;\n",
       "    }\n",
       "\n",
       "    .dataframe thead th {\n",
       "        text-align: left;\n",
       "    }\n",
       "\n",
       "    .dataframe tbody tr th {\n",
       "        vertical-align: top;\n",
       "    }\n",
       "</style>\n",
       "<table border=\"1\" class=\"dataframe\">\n",
       "  <thead>\n",
       "    <tr style=\"text-align: right;\">\n",
       "      <th></th>\n",
       "      <th>Year</th>\n",
       "      <th>Payroll</th>\n",
       "      <th>Rank</th>\n",
       "      <th>OWAR</th>\n",
       "      <th>DWAR</th>\n",
       "      <th>PWAR</th>\n",
       "      <th>WAR</th>\n",
       "      <th>pay</th>\n",
       "      <th>lnpay</th>\n",
       "    </tr>\n",
       "  </thead>\n",
       "  <tbody>\n",
       "    <tr>\n",
       "      <th>count</th>\n",
       "      <td>330.0000</td>\n",
       "      <td>3.3000e+02</td>\n",
       "      <td>330.0000</td>\n",
       "      <td>330.0000</td>\n",
       "      <td>330.0000</td>\n",
       "      <td>330.0000</td>\n",
       "      <td>330.0000</td>\n",
       "      <td>330.0000</td>\n",
       "      <td>330.0000</td>\n",
       "    </tr>\n",
       "    <tr>\n",
       "      <th>mean</th>\n",
       "      <td>2009.0000</td>\n",
       "      <td>9.5116e+07</td>\n",
       "      <td>15.4848</td>\n",
       "      <td>19.6779</td>\n",
       "      <td>-0.0036</td>\n",
       "      <td>13.6691</td>\n",
       "      <td>33.3433</td>\n",
       "      <td>95.1156</td>\n",
       "      <td>18.2793</td>\n",
       "    </tr>\n",
       "    <tr>\n",
       "      <th>std</th>\n",
       "      <td>3.1671</td>\n",
       "      <td>4.1380e+07</td>\n",
       "      <td>8.6686</td>\n",
       "      <td>6.6483</td>\n",
       "      <td>3.8065</td>\n",
       "      <td>7.0349</td>\n",
       "      <td>10.6372</td>\n",
       "      <td>41.3803</td>\n",
       "      <td>0.4357</td>\n",
       "    </tr>\n",
       "    <tr>\n",
       "      <th>min</th>\n",
       "      <td>2004.0000</td>\n",
       "      <td>2.1124e+07</td>\n",
       "      <td>1.0000</td>\n",
       "      <td>0.5000</td>\n",
       "      <td>-12.4000</td>\n",
       "      <td>-5.8000</td>\n",
       "      <td>3.8000</td>\n",
       "      <td>21.1243</td>\n",
       "      <td>16.8659</td>\n",
       "    </tr>\n",
       "    <tr>\n",
       "      <th>25%</th>\n",
       "      <td>2006.0000</td>\n",
       "      <td>6.9204e+07</td>\n",
       "      <td>8.0000</td>\n",
       "      <td>14.8250</td>\n",
       "      <td>-2.4000</td>\n",
       "      <td>8.8250</td>\n",
       "      <td>25.5250</td>\n",
       "      <td>69.2040</td>\n",
       "      <td>18.0526</td>\n",
       "    </tr>\n",
       "    <tr>\n",
       "      <th>50%</th>\n",
       "      <td>2009.0000</td>\n",
       "      <td>8.9819e+07</td>\n",
       "      <td>15.0000</td>\n",
       "      <td>19.6500</td>\n",
       "      <td>0.2500</td>\n",
       "      <td>14.0000</td>\n",
       "      <td>33.5500</td>\n",
       "      <td>89.8192</td>\n",
       "      <td>18.3133</td>\n",
       "    </tr>\n",
       "    <tr>\n",
       "      <th>75%</th>\n",
       "      <td>2012.0000</td>\n",
       "      <td>1.1354e+08</td>\n",
       "      <td>23.0000</td>\n",
       "      <td>23.8000</td>\n",
       "      <td>2.7000</td>\n",
       "      <td>18.1750</td>\n",
       "      <td>41.0000</td>\n",
       "      <td>113.5385</td>\n",
       "      <td>18.5477</td>\n",
       "    </tr>\n",
       "    <tr>\n",
       "      <th>max</th>\n",
       "      <td>2014.0000</td>\n",
       "      <td>2.5728e+08</td>\n",
       "      <td>30.0000</td>\n",
       "      <td>40.0000</td>\n",
       "      <td>11.1000</td>\n",
       "      <td>37.2000</td>\n",
       "      <td>59.9000</td>\n",
       "      <td>257.2834</td>\n",
       "      <td>19.3657</td>\n",
       "    </tr>\n",
       "  </tbody>\n",
       "</table>\n",
       "</div>"
      ],
      "text/plain": [
       "            Year     Payroll      Rank      OWAR      DWAR      PWAR  \\\n",
       "count   330.0000  3.3000e+02  330.0000  330.0000  330.0000  330.0000   \n",
       "mean   2009.0000  9.5116e+07   15.4848   19.6779   -0.0036   13.6691   \n",
       "std       3.1671  4.1380e+07    8.6686    6.6483    3.8065    7.0349   \n",
       "min    2004.0000  2.1124e+07    1.0000    0.5000  -12.4000   -5.8000   \n",
       "25%    2006.0000  6.9204e+07    8.0000   14.8250   -2.4000    8.8250   \n",
       "50%    2009.0000  8.9819e+07   15.0000   19.6500    0.2500   14.0000   \n",
       "75%    2012.0000  1.1354e+08   23.0000   23.8000    2.7000   18.1750   \n",
       "max    2014.0000  2.5728e+08   30.0000   40.0000   11.1000   37.2000   \n",
       "\n",
       "            WAR       pay     lnpay  \n",
       "count  330.0000  330.0000  330.0000  \n",
       "mean    33.3433   95.1156   18.2793  \n",
       "std     10.6372   41.3803    0.4357  \n",
       "min      3.8000   21.1243   16.8659  \n",
       "25%     25.5250   69.2040   18.0526  \n",
       "50%     33.5500   89.8192   18.3133  \n",
       "75%     41.0000  113.5385   18.5477  \n",
       "max     59.9000  257.2834   19.3657  "
      ]
     },
     "execution_count": 37,
     "metadata": {},
     "output_type": "execute_result"
    }
   ],
   "source": [
    "dm.describe()"
   ]
  },
  {
   "cell_type": "code",
   "execution_count": 38,
   "metadata": {},
   "outputs": [
    {
     "data": {
      "text/plain": [
       "<matplotlib.axes._subplots.AxesSubplot at 0x249b583e978>"
      ]
     },
     "execution_count": 38,
     "metadata": {},
     "output_type": "execute_result"
    },
    {
     "data": {
      "image/png": "[encoded data removed]",
      "text/plain": [
       "<matplotlib.figure.Figure at 0x249b5a30cc0>"
      ]
     },
     "metadata": {},
     "output_type": "display_data"
    }
   ],
   "source": [
    "%matplotlib inline\n",
    "\n",
    "dm.plot(kind='scatter', x='pay', y='Rank', title='Scatter plot of team rank and payroll' )"
   ]
  },
  {
   "cell_type": "code",
   "execution_count": 39,
   "metadata": {},
   "outputs": [
    {
     "data": {
      "text/plain": [
       "<matplotlib.axes._subplots.AxesSubplot at 0x249b5a52c50>"
      ]
     },
     "execution_count": 39,
     "metadata": {},
     "output_type": "execute_result"
    },
    {
     "data": {
      "image/png": "[encoded data removed]",
      "text/plain": [
       "<matplotlib.figure.Figure at 0x249b58b2828>"
      ]
     },
     "metadata": {},
     "output_type": "display_data"
    }
   ],
   "source": [
    "%matplotlib inline\n",
    "\n",
    "dm.plot(kind='scatter', x='WAR', y='Rank', title='Scatter plot of team rank and WAR' )"
   ]
  },
  {
   "cell_type": "markdown",
   "metadata": {},
   "source": [
    "### Regression analysis"
   ]
  },
  {
   "cell_type": "markdown",
   "metadata": {},
   "source": [
    "(1): $rank_{s,t} = \\beta_0 + \\beta_1 ln(Playroll_{s,t}) + \\epsilon_{s,t} $\n",
    "\n",
    "Payroll significantly decreases a team's rank status. Each percentage increase in a team's payroll decreases the team's rank status by approximately 17.5 points.\n",
    "\n",
    "Regression results are below."
   ]
  },
  {
   "cell_type": "code",
   "execution_count": 45,
   "metadata": {},
   "outputs": [
    {
     "data": {
      "text/html": [
       "<table class=\"simpletable\">\n",
       "<caption>OLS Regression Results</caption>\n",
       "<tr>\n",
       "  <th>Dep. Variable:</th>          <td>Rank</td>       <th>  R-squared:         </th> <td>   0.776</td> \n",
       "</tr>\n",
       "<tr>\n",
       "  <th>Model:</th>                   <td>OLS</td>       <th>  Adj. R-squared:    </th> <td>   0.776</td> \n",
       "</tr>\n",
       "<tr>\n",
       "  <th>Method:</th>             <td>Least Squares</td>  <th>  F-statistic:       </th> <td>   1139.</td> \n",
       "</tr>\n",
       "<tr>\n",
       "  <th>Date:</th>             <td>Mon, 02 Apr 2018</td> <th>  Prob (F-statistic):</th> <td>1.03e-108</td>\n",
       "</tr>\n",
       "<tr>\n",
       "  <th>Time:</th>                 <td>21:21:55</td>     <th>  Log-Likelihood:    </th> <td> -933.31</td> \n",
       "</tr>\n",
       "<tr>\n",
       "  <th>No. Observations:</th>      <td>   330</td>      <th>  AIC:               </th> <td>   1871.</td> \n",
       "</tr>\n",
       "<tr>\n",
       "  <th>Df Residuals:</th>          <td>   328</td>      <th>  BIC:               </th> <td>   1878.</td> \n",
       "</tr>\n",
       "<tr>\n",
       "  <th>Df Model:</th>              <td>     1</td>      <th>                     </th>     <td> </td>    \n",
       "</tr>\n",
       "<tr>\n",
       "  <th>Covariance Type:</th>      <td>nonrobust</td>    <th>                     </th>     <td> </td>    \n",
       "</tr>\n",
       "</table>\n",
       "<table class=\"simpletable\">\n",
       "<tr>\n",
       "    <td></td>       <th>coef</th>     <th>std err</th>      <th>t</th>      <th>P>|t|</th>  <th>[0.025</th>    <th>0.975]</th>  \n",
       "</tr>\n",
       "<tr>\n",
       "  <th>const</th> <td>  335.9498</td> <td>    9.499</td> <td>   35.367</td> <td> 0.000</td> <td>  317.263</td> <td>  354.636</td>\n",
       "</tr>\n",
       "<tr>\n",
       "  <th>lnpay</th> <td>  -17.5316</td> <td>    0.520</td> <td>  -33.747</td> <td> 0.000</td> <td>  -18.554</td> <td>  -16.510</td>\n",
       "</tr>\n",
       "</table>\n",
       "<table class=\"simpletable\">\n",
       "<tr>\n",
       "  <th>Omnibus:</th>       <td> 3.104</td> <th>  Durbin-Watson:     </th> <td>   0.927</td>\n",
       "</tr>\n",
       "<tr>\n",
       "  <th>Prob(Omnibus):</th> <td> 0.212</td> <th>  Jarque-Bera (JB):  </th> <td>   2.395</td>\n",
       "</tr>\n",
       "<tr>\n",
       "  <th>Skew:</th>          <td>-0.057</td> <th>  Prob(JB):          </th> <td>   0.302</td>\n",
       "</tr>\n",
       "<tr>\n",
       "  <th>Kurtosis:</th>      <td> 2.599</td> <th>  Cond. No.          </th> <td>    771.</td>\n",
       "</tr>\n",
       "</table>"
      ],
      "text/plain": [
       "<class 'statsmodels.iolib.summary.Summary'>\n",
       "\"\"\"\n",
       "                            OLS Regression Results                            \n",
       "==============================================================================\n",
       "Dep. Variable:                   Rank   R-squared:                       0.776\n",
       "Model:                            OLS   Adj. R-squared:                  0.776\n",
       "Method:                 Least Squares   F-statistic:                     1139.\n",
       "Date:                Mon, 02 Apr 2018   Prob (F-statistic):          1.03e-108\n",
       "Time:                        21:21:55   Log-Likelihood:                -933.31\n",
       "No. Observations:                 330   AIC:                             1871.\n",
       "Df Residuals:                     328   BIC:                             1878.\n",
       "Df Model:                           1                                         \n",
       "Covariance Type:            nonrobust                                         \n",
       "==============================================================================\n",
       "                 coef    std err          t      P>|t|      [0.025      0.975]\n",
       "------------------------------------------------------------------------------\n",
       "const        335.9498      9.499     35.367      0.000     317.263     354.636\n",
       "lnpay        -17.5316      0.520    -33.747      0.000     -18.554     -16.510\n",
       "==============================================================================\n",
       "Omnibus:                        3.104   Durbin-Watson:                   0.927\n",
       "Prob(Omnibus):                  0.212   Jarque-Bera (JB):                2.395\n",
       "Skew:                          -0.057   Prob(JB):                        0.302\n",
       "Kurtosis:                       2.599   Cond. No.                         771.\n",
       "==============================================================================\n",
       "\n",
       "Warnings:\n",
       "[1] Standard Errors assume that the covariance matrix of the errors is correctly specified.\n",
       "\"\"\""
      ]
     },
     "execution_count": 45,
     "metadata": {},
     "output_type": "execute_result"
    }
   ],
   "source": [
    "Y = dm.Rank\n",
    "X = sm.add_constant(dm.lnpay)\n",
    "\n",
    "m1 = sm.OLS(Y,X).fit()\n",
    "m1.summary()"
   ]
  },
  {
   "cell_type": "markdown",
   "metadata": {},
   "source": [
    "Payroll decreases a team's rank status. Each percentage increase in a team's payroll decreases the team's rank status by  approximately 17.5 points"
   ]
  },
  {
   "cell_type": "markdown",
   "metadata": {},
   "source": [
    "(2): $rank_{s,t} = \\beta_0 + \\beta_1 ln(Playroll_{s,t}) + \\beta_2 WAR_{s,t} + \\epsilon_{s,t} $\n",
    "\n",
    "Payroll also significantly decreases a team's rank status when the WAR statistic is included in the specification. However, the WAR statistics is not statistically significant. Therefore, the labour market is efficient in terms of incorporating the WAR statistic into play salaries.\n",
    "\n",
    "Regression results are below."
   ]
  },
  {
   "cell_type": "code",
   "execution_count": 43,
   "metadata": {},
   "outputs": [
    {
     "data": {
      "text/html": [
       "<table class=\"simpletable\">\n",
       "<caption>OLS Regression Results</caption>\n",
       "<tr>\n",
       "  <th>Dep. Variable:</th>          <td>Rank</td>       <th>  R-squared:         </th> <td>   0.778</td> \n",
       "</tr>\n",
       "<tr>\n",
       "  <th>Model:</th>                   <td>OLS</td>       <th>  Adj. R-squared:    </th> <td>   0.777</td> \n",
       "</tr>\n",
       "<tr>\n",
       "  <th>Method:</th>             <td>Least Squares</td>  <th>  F-statistic:       </th> <td>   573.0</td> \n",
       "</tr>\n",
       "<tr>\n",
       "  <th>Date:</th>             <td>Mon, 02 Apr 2018</td> <th>  Prob (F-statistic):</th> <td>1.33e-107</td>\n",
       "</tr>\n",
       "<tr>\n",
       "  <th>Time:</th>                 <td>21:18:21</td>     <th>  Log-Likelihood:    </th> <td> -932.10</td> \n",
       "</tr>\n",
       "<tr>\n",
       "  <th>No. Observations:</th>      <td>   330</td>      <th>  AIC:               </th> <td>   1870.</td> \n",
       "</tr>\n",
       "<tr>\n",
       "  <th>Df Residuals:</th>          <td>   327</td>      <th>  BIC:               </th> <td>   1882.</td> \n",
       "</tr>\n",
       "<tr>\n",
       "  <th>Df Model:</th>              <td>     2</td>      <th>                     </th>     <td> </td>    \n",
       "</tr>\n",
       "<tr>\n",
       "  <th>Covariance Type:</th>      <td>nonrobust</td>    <th>                     </th>     <td> </td>    \n",
       "</tr>\n",
       "</table>\n",
       "<table class=\"simpletable\">\n",
       "<tr>\n",
       "    <td></td>       <th>coef</th>     <th>std err</th>      <th>t</th>      <th>P>|t|</th>  <th>[0.025</th>    <th>0.975]</th>  \n",
       "</tr>\n",
       "<tr>\n",
       "  <th>const</th> <td>  330.3516</td> <td>   10.145</td> <td>   32.562</td> <td> 0.000</td> <td>  310.394</td> <td>  350.310</td>\n",
       "</tr>\n",
       "<tr>\n",
       "  <th>lnpay</th> <td>  -17.1592</td> <td>    0.571</td> <td>  -30.025</td> <td> 0.000</td> <td>  -18.283</td> <td>  -16.035</td>\n",
       "</tr>\n",
       "<tr>\n",
       "  <th>WAR</th>   <td>   -0.0362</td> <td>    0.023</td> <td>   -1.548</td> <td> 0.123</td> <td>   -0.082</td> <td>    0.010</td>\n",
       "</tr>\n",
       "</table>\n",
       "<table class=\"simpletable\">\n",
       "<tr>\n",
       "  <th>Omnibus:</th>       <td> 2.738</td> <th>  Durbin-Watson:     </th> <td>   0.923</td>\n",
       "</tr>\n",
       "<tr>\n",
       "  <th>Prob(Omnibus):</th> <td> 0.254</td> <th>  Jarque-Bera (JB):  </th> <td>   2.139</td>\n",
       "</tr>\n",
       "<tr>\n",
       "  <th>Skew:</th>          <td>-0.031</td> <th>  Prob(JB):          </th> <td>   0.343</td>\n",
       "</tr>\n",
       "<tr>\n",
       "  <th>Kurtosis:</th>      <td> 2.611</td> <th>  Cond. No.          </th> <td>1.77e+03</td>\n",
       "</tr>\n",
       "</table>"
      ],
      "text/plain": [
       "<class 'statsmodels.iolib.summary.Summary'>\n",
       "\"\"\"\n",
       "                            OLS Regression Results                            \n",
       "==============================================================================\n",
       "Dep. Variable:                   Rank   R-squared:                       0.778\n",
       "Model:                            OLS   Adj. R-squared:                  0.777\n",
       "Method:                 Least Squares   F-statistic:                     573.0\n",
       "Date:                Mon, 02 Apr 2018   Prob (F-statistic):          1.33e-107\n",
       "Time:                        21:18:21   Log-Likelihood:                -932.10\n",
       "No. Observations:                 330   AIC:                             1870.\n",
       "Df Residuals:                     327   BIC:                             1882.\n",
       "Df Model:                           2                                         \n",
       "Covariance Type:            nonrobust                                         \n",
       "==============================================================================\n",
       "                 coef    std err          t      P>|t|      [0.025      0.975]\n",
       "------------------------------------------------------------------------------\n",
       "const        330.3516     10.145     32.562      0.000     310.394     350.310\n",
       "lnpay        -17.1592      0.571    -30.025      0.000     -18.283     -16.035\n",
       "WAR           -0.0362      0.023     -1.548      0.123      -0.082       0.010\n",
       "==============================================================================\n",
       "Omnibus:                        2.738   Durbin-Watson:                   0.923\n",
       "Prob(Omnibus):                  0.254   Jarque-Bera (JB):                2.139\n",
       "Skew:                          -0.031   Prob(JB):                        0.343\n",
       "Kurtosis:                       2.611   Cond. No.                     1.77e+03\n",
       "==============================================================================\n",
       "\n",
       "Warnings:\n",
       "[1] Standard Errors assume that the covariance matrix of the errors is correctly specified.\n",
       "[2] The condition number is large, 1.77e+03. This might indicate that there are\n",
       "strong multicollinearity or other numerical problems.\n",
       "\"\"\""
      ]
     },
     "execution_count": 43,
     "metadata": {},
     "output_type": "execute_result"
    }
   ],
   "source": [
    "Y = dm.Rank\n",
    "X = sm.add_constant(dm[['lnpay', 'WAR']])\n",
    "\n",
    "m2 = sm.OLS(Y,X).fit()\n",
    "m2.summary()"
   ]
  },
  {
   "cell_type": "code",
   "execution_count": null,
   "metadata": {},
   "outputs": [],
   "source": []
  }
 ],
 "metadata": {
  "kernelspec": {
   "display_name": "Python 3",
   "language": "python",
   "name": "python3"
  },
  "language_info": {
   "codemirror_mode": {
    "name": "ipython",
    "version": 3
   },
   "file_extension": ".py",
   "mimetype": "text/x-python",
   "name": "python",
   "nbconvert_exporter": "python",
   "pygments_lexer": "ipython3",
   "version": "3.6.3"
  }
 },
 "nbformat": 4,
 "nbformat_minor": 2
}
