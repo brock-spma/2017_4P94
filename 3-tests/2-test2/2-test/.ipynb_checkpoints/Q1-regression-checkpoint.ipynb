{
 "cells": [
  {
   "cell_type": "markdown",
   "metadata": {},
   "source": [
    "# Q1 - Regression analysis: MLB\n",
    "\n",
    "Conduct an analysis to determine the impact of MLB payroll and wins above replacement statistics (i.e., WAR) on a team's regular season rank position. In particular, use Ordinary Least Squares (i.e. OLS) to estimate the following two model specifications:\n",
    "\n",
    "\n",
    "(1): $rank_{s,t} = \\beta_0 + \\beta_1 ln(Playroll_{s,t}) + \\epsilon_{s,t} $\n",
    "\n",
    "(2): $rank_{s,t} = \\beta_0 + \\beta_1 ln(Playroll_{s,t}) + \\beta_2 WAR_{s,t} + \\epsilon_{s,t} $\n",
    "\n",
    "Interpret the regression results of each equation.\n",
    "\n"
   ]
  },
  {
   "cell_type": "code",
   "execution_count": 9,
   "metadata": {},
   "outputs": [],
   "source": [
    "import os\n",
    "import sys\n",
    "import pandas\n",
    "import numpy\n",
    "import matplotlib\n",
    "import matplotlib.pyplot as plt\n",
    "%matplotlib notebook\n",
    "\n",
    "import statsmodels.api as sm\n",
    "\n",
    "pandas.set_option('display.notebook_repr_html', True)\n",
    "pandas.set_option('display.max_columns', 40)\n",
    "pandas.set_option('display.max_rows', 25)\n",
    "pandas.set_option('precision', 4)"
   ]
  },
  {
   "cell_type": "code",
   "execution_count": 10,
   "metadata": {},
   "outputs": [
    {
     "data": {
      "text/html": [
       "<div>\n",
       "<style>\n",
       "    .dataframe thead tr:only-child th {\n",
       "        text-align: right;\n",
       "    }\n",
       "\n",
       "    .dataframe thead th {\n",
       "        text-align: left;\n",
       "    }\n",
       "\n",
       "    .dataframe tbody tr th {\n",
       "        vertical-align: top;\n",
       "    }\n",
       "</style>\n",
       "<table border=\"1\" class=\"dataframe\">\n",
       "  <thead>\n",
       "    <tr style=\"text-align: right;\">\n",
       "      <th></th>\n",
       "      <th>Team</th>\n",
       "      <th>Year</th>\n",
       "      <th>Payroll</th>\n",
       "      <th>Rank</th>\n",
       "      <th>OWAR</th>\n",
       "      <th>DWAR</th>\n",
       "      <th>PWAR</th>\n",
       "      <th>WAR</th>\n",
       "    </tr>\n",
       "  </thead>\n",
       "  <tbody>\n",
       "    <tr>\n",
       "      <th>0</th>\n",
       "      <td>ARI</td>\n",
       "      <td>2014</td>\n",
       "      <td>1.0812e+08</td>\n",
       "      <td>17</td>\n",
       "      <td>14.1</td>\n",
       "      <td>1.2</td>\n",
       "      <td>2.9</td>\n",
       "      <td>18.2</td>\n",
       "    </tr>\n",
       "    <tr>\n",
       "      <th>1</th>\n",
       "      <td>ARI</td>\n",
       "      <td>2013</td>\n",
       "      <td>9.0205e+07</td>\n",
       "      <td>20</td>\n",
       "      <td>18.8</td>\n",
       "      <td>7.3</td>\n",
       "      <td>4.7</td>\n",
       "      <td>30.8</td>\n",
       "    </tr>\n",
       "    <tr>\n",
       "      <th>2</th>\n",
       "      <td>ARI</td>\n",
       "      <td>2012</td>\n",
       "      <td>7.7163e+07</td>\n",
       "      <td>23</td>\n",
       "      <td>19.2</td>\n",
       "      <td>2.0</td>\n",
       "      <td>14.4</td>\n",
       "      <td>35.6</td>\n",
       "    </tr>\n",
       "    <tr>\n",
       "      <th>3</th>\n",
       "      <td>ARI</td>\n",
       "      <td>2011</td>\n",
       "      <td>6.5604e+07</td>\n",
       "      <td>24</td>\n",
       "      <td>20.3</td>\n",
       "      <td>6.5</td>\n",
       "      <td>8.0</td>\n",
       "      <td>34.8</td>\n",
       "    </tr>\n",
       "    <tr>\n",
       "      <th>4</th>\n",
       "      <td>ARI</td>\n",
       "      <td>2010</td>\n",
       "      <td>7.0531e+07</td>\n",
       "      <td>25</td>\n",
       "      <td>14.7</td>\n",
       "      <td>2.5</td>\n",
       "      <td>0.1</td>\n",
       "      <td>17.3</td>\n",
       "    </tr>\n",
       "  </tbody>\n",
       "</table>\n",
       "</div>"
      ],
      "text/plain": [
       "  Team  Year     Payroll  Rank  OWAR  DWAR  PWAR   WAR\n",
       "0  ARI  2014  1.0812e+08    17  14.1   1.2   2.9  18.2\n",
       "1  ARI  2013  9.0205e+07    20  18.8   7.3   4.7  30.8\n",
       "2  ARI  2012  7.7163e+07    23  19.2   2.0  14.4  35.6\n",
       "3  ARI  2011  6.5604e+07    24  20.3   6.5   8.0  34.8\n",
       "4  ARI  2010  7.0531e+07    25  14.7   2.5   0.1  17.3"
      ]
     },
     "execution_count": 10,
     "metadata": {},
     "output_type": "execute_result"
    }
   ],
   "source": [
    "dm = pandas.read_csv('MLBSeasonTeamPayroll.csv')\n",
    "dm = dm.drop(['Start Pay'], axis=1)\n",
    "dm = dm.rename(columns={'End Pay': 'Payroll'})\n",
    "dm = dm.rename(columns={'End Rank': 'Rank'})\n",
    "dm.head()"
   ]
  },
  {
   "cell_type": "code",
   "execution_count": null,
   "metadata": {},
   "outputs": [],
   "source": []
  }
 ],
 "metadata": {
  "kernelspec": {
   "display_name": "Python 3",
   "language": "python",
   "name": "python3"
  },
  "language_info": {
   "codemirror_mode": {
    "name": "ipython",
    "version": 3
   },
   "file_extension": ".py",
   "mimetype": "text/x-python",
   "name": "python",
   "nbconvert_exporter": "python",
   "pygments_lexer": "ipython3",
   "version": "3.6.3"
  }
 },
 "nbformat": 4,
 "nbformat_minor": 2
}
