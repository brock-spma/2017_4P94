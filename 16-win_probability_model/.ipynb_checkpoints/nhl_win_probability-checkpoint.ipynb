{
 "cells": [
  {
   "cell_type": "markdown",
   "metadata": {},
   "source": [
    "# Objectives\n",
    "\n",
    "* Formalize win probability model\n",
    "* Estimate and predict multinomial logitistic regresison models\n",
    "* Implement Bayes' rule"
   ]
  },
  {
   "cell_type": "markdown",
   "metadata": {},
   "source": [
    "## NHL In-Game Win Probability Model\n",
    "\n",
    "Estimate the following model:\n",
    "    \n",
    "$$ p(hw_g| score_{g,t} ) = \\frac{p(hg_g| score_{g,t} ) p(hw_g)}{ p(score_{g,t} | hw_g) p(hw_g) +  p(score_{g,t} | \\bar{hw_g}) p( \\bar{hw_g}) } $$\n",
    "\n",
    "where,\n",
    "\n",
    "* $(hw_g| score_{g,t})$: posterior probability of a home team win given the score differential game state\n",
    "* $p(hw_g$: prior probability of a home team win\n",
    "* $p(score_{g,t} |hw_g)$ and $p(score_{g,t}  | \\bar{hw_g})$: inverse conditional probabilities"
   ]
  },
  {
   "cell_type": "code",
   "execution_count": 1,
   "metadata": {},
   "outputs": [
    {
     "name": "stderr",
     "output_type": "stream",
     "text": [
      "C:\\Users\\kevin\\Anaconda3\\lib\\site-packages\\statsmodels\\compat\\pandas.py:56: FutureWarning: The pandas.core.datetools module is deprecated and will be removed in a future version. Please use the pandas.tseries module instead.\n",
      "  from pandas.core import datetools\n"
     ]
    }
   ],
   "source": [
    "# modules\n",
    "import sys\n",
    "import os\n",
    "import pandas\n",
    "import numpy\n",
    "import datetime, time\n",
    "\n",
    "import matplotlib.pyplot as plt\n",
    "%matplotlib notebook\n",
    "\n",
    "import statsmodels.api as sm\n",
    "from pylab import hist, show\n",
    "import scipy\n",
    "import statsmodels.api as sm\n",
    "\n",
    "pandas.set_option(\"display.max_rows\", 35)\n",
    "pandas.set_option(\"display.max_columns\", 50)\n",
    "pandas.set_option(\"display.max_colwidth\", 200)\n",
    "\n"
   ]
  },
  {
   "cell_type": "code",
   "execution_count": 2,
   "metadata": {},
   "outputs": [
    {
     "name": "stdout",
     "output_type": "stream",
     "text": [
      "315318\n"
     ]
    },
    {
     "data": {
      "text/html": [
       "<div>\n",
       "<style scoped>\n",
       "    .dataframe tbody tr th:only-of-type {\n",
       "        vertical-align: middle;\n",
       "    }\n",
       "\n",
       "    .dataframe tbody tr th {\n",
       "        vertical-align: top;\n",
       "    }\n",
       "\n",
       "    .dataframe thead th {\n",
       "        text-align: right;\n",
       "    }\n",
       "</style>\n",
       "<table border=\"1\" class=\"dataframe\">\n",
       "  <thead>\n",
       "    <tr style=\"text-align: right;\">\n",
       "      <th></th>\n",
       "      <th>gamedate</th>\n",
       "      <th>season</th>\n",
       "      <th>gamenumber</th>\n",
       "      <th>period</th>\n",
       "      <th>eventtimefromzero</th>\n",
       "      <th>eventnumber</th>\n",
       "      <th>teamcode</th>\n",
       "      <th>isthome</th>\n",
       "      <th>tgoals</th>\n",
       "      <th>ogoals</th>\n",
       "      <th>vteamcode</th>\n",
       "      <th>hteamcode</th>\n",
       "      <th>winteamcode</th>\n",
       "      <th>isOTWin</th>\n",
       "      <th>isSOWin</th>\n",
       "    </tr>\n",
       "  </thead>\n",
       "  <tbody>\n",
       "    <tr>\n",
       "      <th>0</th>\n",
       "      <td>10/8/2014</td>\n",
       "      <td>2014</td>\n",
       "      <td>20001</td>\n",
       "      <td>1</td>\n",
       "      <td>540</td>\n",
       "      <td>60</td>\n",
       "      <td>TOR</td>\n",
       "      <td>1</td>\n",
       "      <td>1</td>\n",
       "      <td>1</td>\n",
       "      <td>MTL</td>\n",
       "      <td>TOR</td>\n",
       "      <td>MTL</td>\n",
       "      <td>0</td>\n",
       "      <td>0</td>\n",
       "    </tr>\n",
       "    <tr>\n",
       "      <th>1</th>\n",
       "      <td>10/8/2014</td>\n",
       "      <td>2014</td>\n",
       "      <td>20001</td>\n",
       "      <td>1</td>\n",
       "      <td>74</td>\n",
       "      <td>9</td>\n",
       "      <td>TOR</td>\n",
       "      <td>1</td>\n",
       "      <td>0</td>\n",
       "      <td>0</td>\n",
       "      <td>MTL</td>\n",
       "      <td>TOR</td>\n",
       "      <td>MTL</td>\n",
       "      <td>0</td>\n",
       "      <td>0</td>\n",
       "    </tr>\n",
       "    <tr>\n",
       "      <th>2</th>\n",
       "      <td>10/8/2014</td>\n",
       "      <td>2014</td>\n",
       "      <td>20001</td>\n",
       "      <td>2</td>\n",
       "      <td>1127</td>\n",
       "      <td>215</td>\n",
       "      <td>TOR</td>\n",
       "      <td>1</td>\n",
       "      <td>2</td>\n",
       "      <td>2</td>\n",
       "      <td>MTL</td>\n",
       "      <td>TOR</td>\n",
       "      <td>MTL</td>\n",
       "      <td>0</td>\n",
       "      <td>0</td>\n",
       "    </tr>\n",
       "    <tr>\n",
       "      <th>3</th>\n",
       "      <td>10/8/2014</td>\n",
       "      <td>2014</td>\n",
       "      <td>20001</td>\n",
       "      <td>2</td>\n",
       "      <td>835</td>\n",
       "      <td>189</td>\n",
       "      <td>TOR</td>\n",
       "      <td>1</td>\n",
       "      <td>2</td>\n",
       "      <td>2</td>\n",
       "      <td>MTL</td>\n",
       "      <td>TOR</td>\n",
       "      <td>MTL</td>\n",
       "      <td>0</td>\n",
       "      <td>0</td>\n",
       "    </tr>\n",
       "    <tr>\n",
       "      <th>4</th>\n",
       "      <td>10/8/2014</td>\n",
       "      <td>2014</td>\n",
       "      <td>20001</td>\n",
       "      <td>1</td>\n",
       "      <td>1142</td>\n",
       "      <td>109</td>\n",
       "      <td>TOR</td>\n",
       "      <td>1</td>\n",
       "      <td>1</td>\n",
       "      <td>1</td>\n",
       "      <td>MTL</td>\n",
       "      <td>TOR</td>\n",
       "      <td>MTL</td>\n",
       "      <td>0</td>\n",
       "      <td>0</td>\n",
       "    </tr>\n",
       "  </tbody>\n",
       "</table>\n",
       "</div>"
      ],
      "text/plain": [
       "    gamedate  season  gamenumber  period  eventtimefromzero  eventnumber  \\\n",
       "0  10/8/2014    2014       20001       1                540           60   \n",
       "1  10/8/2014    2014       20001       1                 74            9   \n",
       "2  10/8/2014    2014       20001       2               1127          215   \n",
       "3  10/8/2014    2014       20001       2                835          189   \n",
       "4  10/8/2014    2014       20001       1               1142          109   \n",
       "\n",
       "  teamcode  isthome  tgoals  ogoals vteamcode hteamcode winteamcode  isOTWin  \\\n",
       "0      TOR        1       1       1       MTL       TOR         MTL        0   \n",
       "1      TOR        1       0       0       MTL       TOR         MTL        0   \n",
       "2      TOR        1       2       2       MTL       TOR         MTL        0   \n",
       "3      TOR        1       2       2       MTL       TOR         MTL        0   \n",
       "4      TOR        1       1       1       MTL       TOR         MTL        0   \n",
       "\n",
       "   isSOWin  \n",
       "0        0  \n",
       "1        0  \n",
       "2        0  \n",
       "3        0  \n",
       "4        0  "
      ]
     },
     "execution_count": 2,
     "metadata": {},
     "output_type": "execute_result"
    }
   ],
   "source": [
    "dh = pandas.read_csv('2014Events.csv')\n",
    "dh = dh.drop(['playernumber', 'toirank', 'eventtype', 'zone', 'name', 'advantagetype', 'position'], axis=1)\n",
    "# smaller development dataframe to decrease execution time\n",
    "#dh = dh[dh['gamenumber']<=20200]\n",
    "print (len(dh))\n",
    "dh.head()"
   ]
  },
  {
   "cell_type": "code",
   "execution_count": 3,
   "metadata": {},
   "outputs": [
    {
     "data": {
      "text/html": [
       "<div>\n",
       "<style scoped>\n",
       "    .dataframe tbody tr th:only-of-type {\n",
       "        vertical-align: middle;\n",
       "    }\n",
       "\n",
       "    .dataframe tbody tr th {\n",
       "        vertical-align: top;\n",
       "    }\n",
       "\n",
       "    .dataframe thead th {\n",
       "        text-align: right;\n",
       "    }\n",
       "</style>\n",
       "<table border=\"1\" class=\"dataframe\">\n",
       "  <thead>\n",
       "    <tr style=\"text-align: right;\">\n",
       "      <th></th>\n",
       "      <th>season</th>\n",
       "      <th>gamenumber</th>\n",
       "      <th>period</th>\n",
       "      <th>eventtimefromzero</th>\n",
       "      <th>eventnumber</th>\n",
       "      <th>isthome</th>\n",
       "      <th>tgoals</th>\n",
       "      <th>ogoals</th>\n",
       "      <th>isOTWin</th>\n",
       "      <th>isSOWin</th>\n",
       "      <th>secStart</th>\n",
       "      <th>minStart</th>\n",
       "    </tr>\n",
       "  </thead>\n",
       "  <tbody>\n",
       "    <tr>\n",
       "      <th>count</th>\n",
       "      <td>315318.0</td>\n",
       "      <td>315318.000000</td>\n",
       "      <td>315318.000000</td>\n",
       "      <td>315318.000000</td>\n",
       "      <td>315318.000000</td>\n",
       "      <td>315318.000000</td>\n",
       "      <td>315318.000000</td>\n",
       "      <td>315318.000000</td>\n",
       "      <td>315318.000000</td>\n",
       "      <td>315318.000000</td>\n",
       "      <td>315318.000000</td>\n",
       "      <td>315318.000000</td>\n",
       "    </tr>\n",
       "    <tr>\n",
       "      <th>mean</th>\n",
       "      <td>2014.0</td>\n",
       "      <td>20603.023760</td>\n",
       "      <td>2.010272</td>\n",
       "      <td>585.278566</td>\n",
       "      <td>160.490156</td>\n",
       "      <td>0.521851</td>\n",
       "      <td>1.199120</td>\n",
       "      <td>1.258932</td>\n",
       "      <td>0.113203</td>\n",
       "      <td>0.149303</td>\n",
       "      <td>1797.605170</td>\n",
       "      <td>29.472739</td>\n",
       "    </tr>\n",
       "    <tr>\n",
       "      <th>std</th>\n",
       "      <td>0.0</td>\n",
       "      <td>346.096065</td>\n",
       "      <td>0.859722</td>\n",
       "      <td>351.941286</td>\n",
       "      <td>94.675733</td>\n",
       "      <td>0.499523</td>\n",
       "      <td>1.295151</td>\n",
       "      <td>1.332959</td>\n",
       "      <td>0.316842</td>\n",
       "      <td>0.356388</td>\n",
       "      <td>1069.587344</td>\n",
       "      <td>17.827047</td>\n",
       "    </tr>\n",
       "    <tr>\n",
       "      <th>min</th>\n",
       "      <td>2014.0</td>\n",
       "      <td>20001.000000</td>\n",
       "      <td>1.000000</td>\n",
       "      <td>0.000000</td>\n",
       "      <td>1.000000</td>\n",
       "      <td>0.000000</td>\n",
       "      <td>0.000000</td>\n",
       "      <td>0.000000</td>\n",
       "      <td>0.000000</td>\n",
       "      <td>0.000000</td>\n",
       "      <td>0.000000</td>\n",
       "      <td>0.000000</td>\n",
       "    </tr>\n",
       "    <tr>\n",
       "      <th>25%</th>\n",
       "      <td>2014.0</td>\n",
       "      <td>20304.000000</td>\n",
       "      <td>1.000000</td>\n",
       "      <td>277.000000</td>\n",
       "      <td>79.000000</td>\n",
       "      <td>0.000000</td>\n",
       "      <td>0.000000</td>\n",
       "      <td>0.000000</td>\n",
       "      <td>0.000000</td>\n",
       "      <td>0.000000</td>\n",
       "      <td>879.000000</td>\n",
       "      <td>14.000000</td>\n",
       "    </tr>\n",
       "    <tr>\n",
       "      <th>50%</th>\n",
       "      <td>2014.0</td>\n",
       "      <td>20605.000000</td>\n",
       "      <td>2.000000</td>\n",
       "      <td>579.000000</td>\n",
       "      <td>158.000000</td>\n",
       "      <td>1.000000</td>\n",
       "      <td>1.000000</td>\n",
       "      <td>1.000000</td>\n",
       "      <td>0.000000</td>\n",
       "      <td>0.000000</td>\n",
       "      <td>1773.000000</td>\n",
       "      <td>29.000000</td>\n",
       "    </tr>\n",
       "    <tr>\n",
       "      <th>75%</th>\n",
       "      <td>2014.0</td>\n",
       "      <td>20903.000000</td>\n",
       "      <td>3.000000</td>\n",
       "      <td>889.000000</td>\n",
       "      <td>238.000000</td>\n",
       "      <td>1.000000</td>\n",
       "      <td>2.000000</td>\n",
       "      <td>2.000000</td>\n",
       "      <td>0.000000</td>\n",
       "      <td>0.000000</td>\n",
       "      <td>2692.000000</td>\n",
       "      <td>44.000000</td>\n",
       "    </tr>\n",
       "    <tr>\n",
       "      <th>max</th>\n",
       "      <td>2014.0</td>\n",
       "      <td>21202.000000</td>\n",
       "      <td>5.000000</td>\n",
       "      <td>1200.000000</td>\n",
       "      <td>424.000000</td>\n",
       "      <td>1.000000</td>\n",
       "      <td>9.000000</td>\n",
       "      <td>9.000000</td>\n",
       "      <td>1.000000</td>\n",
       "      <td>1.000000</td>\n",
       "      <td>4800.000000</td>\n",
       "      <td>80.000000</td>\n",
       "    </tr>\n",
       "  </tbody>\n",
       "</table>\n",
       "</div>"
      ],
      "text/plain": [
       "         season     gamenumber         period  eventtimefromzero  \\\n",
       "count  315318.0  315318.000000  315318.000000      315318.000000   \n",
       "mean     2014.0   20603.023760       2.010272         585.278566   \n",
       "std         0.0     346.096065       0.859722         351.941286   \n",
       "min      2014.0   20001.000000       1.000000           0.000000   \n",
       "25%      2014.0   20304.000000       1.000000         277.000000   \n",
       "50%      2014.0   20605.000000       2.000000         579.000000   \n",
       "75%      2014.0   20903.000000       3.000000         889.000000   \n",
       "max      2014.0   21202.000000       5.000000        1200.000000   \n",
       "\n",
       "         eventnumber        isthome         tgoals         ogoals  \\\n",
       "count  315318.000000  315318.000000  315318.000000  315318.000000   \n",
       "mean      160.490156       0.521851       1.199120       1.258932   \n",
       "std        94.675733       0.499523       1.295151       1.332959   \n",
       "min         1.000000       0.000000       0.000000       0.000000   \n",
       "25%        79.000000       0.000000       0.000000       0.000000   \n",
       "50%       158.000000       1.000000       1.000000       1.000000   \n",
       "75%       238.000000       1.000000       2.000000       2.000000   \n",
       "max       424.000000       1.000000       9.000000       9.000000   \n",
       "\n",
       "             isOTWin        isSOWin       secStart       minStart  \n",
       "count  315318.000000  315318.000000  315318.000000  315318.000000  \n",
       "mean        0.113203       0.149303    1797.605170      29.472739  \n",
       "std         0.316842       0.356388    1069.587344      17.827047  \n",
       "min         0.000000       0.000000       0.000000       0.000000  \n",
       "25%         0.000000       0.000000     879.000000      14.000000  \n",
       "50%         0.000000       0.000000    1773.000000      29.000000  \n",
       "75%         0.000000       0.000000    2692.000000      44.000000  \n",
       "max         1.000000       1.000000    4800.000000      80.000000  "
      ]
     },
     "execution_count": 3,
     "metadata": {},
     "output_type": "execute_result"
    }
   ],
   "source": [
    "dh['secStart'] = ((dh['period']-1)*1200 + dh['eventtimefromzero'])\n",
    "dh = dh.sort_values(by=['season', 'gamenumber', 'secStart'], ascending=[1, 1, 1])\n",
    "dh['minStart'] = (dh['secStart']/60).astype(int)\n",
    "dh.describe()"
   ]
  },
  {
   "cell_type": "code",
   "execution_count": 4,
   "metadata": {},
   "outputs": [
    {
     "data": {
      "text/plain": [
       " 0    120943\n",
       " 1     59306\n",
       "-1     54637\n",
       " 2     27469\n",
       "-2     21743\n",
       " 3     12387\n",
       "-3      8195\n",
       " 4      4851\n",
       "-4      2936\n",
       " 5      1592\n",
       "-5       580\n",
       " 6       314\n",
       "-6       288\n",
       "-7        35\n",
       " 7        24\n",
       "-8        18\n",
       "Name: homeSM, dtype: int64"
      ]
     },
     "execution_count": 4,
     "metadata": {},
     "output_type": "execute_result"
    }
   ],
   "source": [
    "# in-game information relative to home team\n",
    "dh['homeScore'] = dh.apply(lambda x: x['tgoals'] if x['isthome'] == 1 else x['ogoals'], axis=1)\n",
    "# dh['homeScore'] = numpy.where(dh.isthome==1, dh.tgoals, dh.ogoals)\n",
    "dh['awayScore'] = dh.apply(lambda x: x['tgoals'] if x['isthome'] == 0 else x['ogoals'], axis=1)\n",
    "dh['homeSM']    = dh['homeScore'] - dh['awayScore']\n",
    "dh['homeWin'] = dh.apply(lambda x: 1 if x['winteamcode'] == x['hteamcode'] else 0, axis=1)\n",
    "dh['homeSM'].value_counts()"
   ]
  },
  {
   "cell_type": "code",
   "execution_count": 5,
   "metadata": {},
   "outputs": [
    {
     "data": {
      "text/html": [
       "<div>\n",
       "<style scoped>\n",
       "    .dataframe tbody tr th:only-of-type {\n",
       "        vertical-align: middle;\n",
       "    }\n",
       "\n",
       "    .dataframe tbody tr th {\n",
       "        vertical-align: top;\n",
       "    }\n",
       "\n",
       "    .dataframe thead th {\n",
       "        text-align: right;\n",
       "    }\n",
       "</style>\n",
       "<table border=\"1\" class=\"dataframe\">\n",
       "  <thead>\n",
       "    <tr style=\"text-align: right;\">\n",
       "      <th></th>\n",
       "      <th>gamedate</th>\n",
       "      <th>season</th>\n",
       "      <th>gamenumber</th>\n",
       "      <th>period</th>\n",
       "      <th>eventtimefromzero</th>\n",
       "      <th>eventnumber</th>\n",
       "      <th>teamcode</th>\n",
       "      <th>isthome</th>\n",
       "      <th>tgoals</th>\n",
       "      <th>ogoals</th>\n",
       "      <th>vteamcode</th>\n",
       "      <th>hteamcode</th>\n",
       "      <th>winteamcode</th>\n",
       "      <th>isOTWin</th>\n",
       "      <th>isSOWin</th>\n",
       "      <th>secStart</th>\n",
       "      <th>minStart</th>\n",
       "      <th>homeScore</th>\n",
       "      <th>awayScore</th>\n",
       "      <th>homeSM</th>\n",
       "      <th>homeWin</th>\n",
       "    </tr>\n",
       "  </thead>\n",
       "  <tbody>\n",
       "    <tr>\n",
       "      <th>118</th>\n",
       "      <td>10/8/2014</td>\n",
       "      <td>2014</td>\n",
       "      <td>20001</td>\n",
       "      <td>1</td>\n",
       "      <td>0</td>\n",
       "      <td>1</td>\n",
       "      <td>MTL</td>\n",
       "      <td>0</td>\n",
       "      <td>0</td>\n",
       "      <td>0</td>\n",
       "      <td>MTL</td>\n",
       "      <td>TOR</td>\n",
       "      <td>MTL</td>\n",
       "      <td>0</td>\n",
       "      <td>0</td>\n",
       "      <td>0</td>\n",
       "      <td>0</td>\n",
       "      <td>0</td>\n",
       "      <td>0</td>\n",
       "      <td>0</td>\n",
       "      <td>0</td>\n",
       "    </tr>\n",
       "    <tr>\n",
       "      <th>274</th>\n",
       "      <td>10/8/2014</td>\n",
       "      <td>2014</td>\n",
       "      <td>20001</td>\n",
       "      <td>1</td>\n",
       "      <td>19</td>\n",
       "      <td>3</td>\n",
       "      <td>MTL</td>\n",
       "      <td>0</td>\n",
       "      <td>0</td>\n",
       "      <td>0</td>\n",
       "      <td>MTL</td>\n",
       "      <td>TOR</td>\n",
       "      <td>MTL</td>\n",
       "      <td>0</td>\n",
       "      <td>0</td>\n",
       "      <td>19</td>\n",
       "      <td>0</td>\n",
       "      <td>0</td>\n",
       "      <td>0</td>\n",
       "      <td>0</td>\n",
       "      <td>0</td>\n",
       "    </tr>\n",
       "    <tr>\n",
       "      <th>19</th>\n",
       "      <td>10/8/2014</td>\n",
       "      <td>2014</td>\n",
       "      <td>20001</td>\n",
       "      <td>1</td>\n",
       "      <td>36</td>\n",
       "      <td>4</td>\n",
       "      <td>TOR</td>\n",
       "      <td>1</td>\n",
       "      <td>0</td>\n",
       "      <td>0</td>\n",
       "      <td>MTL</td>\n",
       "      <td>TOR</td>\n",
       "      <td>MTL</td>\n",
       "      <td>0</td>\n",
       "      <td>0</td>\n",
       "      <td>36</td>\n",
       "      <td>0</td>\n",
       "      <td>0</td>\n",
       "      <td>0</td>\n",
       "      <td>0</td>\n",
       "      <td>0</td>\n",
       "    </tr>\n",
       "    <tr>\n",
       "      <th>153</th>\n",
       "      <td>10/8/2014</td>\n",
       "      <td>2014</td>\n",
       "      <td>20001</td>\n",
       "      <td>1</td>\n",
       "      <td>47</td>\n",
       "      <td>5</td>\n",
       "      <td>TOR</td>\n",
       "      <td>1</td>\n",
       "      <td>0</td>\n",
       "      <td>0</td>\n",
       "      <td>MTL</td>\n",
       "      <td>TOR</td>\n",
       "      <td>MTL</td>\n",
       "      <td>0</td>\n",
       "      <td>0</td>\n",
       "      <td>47</td>\n",
       "      <td>0</td>\n",
       "      <td>0</td>\n",
       "      <td>0</td>\n",
       "      <td>0</td>\n",
       "      <td>0</td>\n",
       "    </tr>\n",
       "    <tr>\n",
       "      <th>226</th>\n",
       "      <td>10/8/2014</td>\n",
       "      <td>2014</td>\n",
       "      <td>20001</td>\n",
       "      <td>1</td>\n",
       "      <td>56</td>\n",
       "      <td>6</td>\n",
       "      <td>TOR</td>\n",
       "      <td>1</td>\n",
       "      <td>0</td>\n",
       "      <td>0</td>\n",
       "      <td>MTL</td>\n",
       "      <td>TOR</td>\n",
       "      <td>MTL</td>\n",
       "      <td>0</td>\n",
       "      <td>0</td>\n",
       "      <td>56</td>\n",
       "      <td>0</td>\n",
       "      <td>0</td>\n",
       "      <td>0</td>\n",
       "      <td>0</td>\n",
       "      <td>0</td>\n",
       "    </tr>\n",
       "  </tbody>\n",
       "</table>\n",
       "</div>"
      ],
      "text/plain": [
       "      gamedate  season  gamenumber  period  eventtimefromzero  eventnumber  \\\n",
       "118  10/8/2014    2014       20001       1                  0            1   \n",
       "274  10/8/2014    2014       20001       1                 19            3   \n",
       "19   10/8/2014    2014       20001       1                 36            4   \n",
       "153  10/8/2014    2014       20001       1                 47            5   \n",
       "226  10/8/2014    2014       20001       1                 56            6   \n",
       "\n",
       "    teamcode  isthome  tgoals  ogoals vteamcode hteamcode winteamcode  \\\n",
       "118      MTL        0       0       0       MTL       TOR         MTL   \n",
       "274      MTL        0       0       0       MTL       TOR         MTL   \n",
       "19       TOR        1       0       0       MTL       TOR         MTL   \n",
       "153      TOR        1       0       0       MTL       TOR         MTL   \n",
       "226      TOR        1       0       0       MTL       TOR         MTL   \n",
       "\n",
       "     isOTWin  isSOWin  secStart  minStart  homeScore  awayScore  homeSM  \\\n",
       "118        0        0         0         0          0          0       0   \n",
       "274        0        0        19         0          0          0       0   \n",
       "19         0        0        36         0          0          0       0   \n",
       "153        0        0        47         0          0          0       0   \n",
       "226        0        0        56         0          0          0       0   \n",
       "\n",
       "     homeWin  \n",
       "118        0  \n",
       "274        0  \n",
       "19         0  \n",
       "153        0  \n",
       "226        0  "
      ]
     },
     "execution_count": 5,
     "metadata": {},
     "output_type": "execute_result"
    }
   ],
   "source": [
    "dh.head()"
   ]
  },
  {
   "cell_type": "markdown",
   "metadata": {},
   "source": [
    "Obtain game results"
   ]
  },
  {
   "cell_type": "code",
   "execution_count": null,
   "metadata": {},
   "outputs": [],
   "source": [
    "df = pandas.DataFrame(dh.groupby(['gamenumber'], axis=0,  as_index=False)['homeSM'].last())\n",
    "df = df.rename(columns={'homeSM' : 'finalHSM'})\n",
    "df.head()"
   ]
  },
  {
   "cell_type": "code",
   "execution_count": null,
   "metadata": {},
   "outputs": [],
   "source": [
    "len(df)"
   ]
  },
  {
   "cell_type": "markdown",
   "metadata": {},
   "source": [
    "Merge game and game-event data"
   ]
  },
  {
   "cell_type": "code",
   "execution_count": null,
   "metadata": {},
   "outputs": [],
   "source": [
    "dh = pandas.merge(dh, df, left_on='gamenumber', right_on='gamenumber', how='outer')\n",
    "dh.head(2)"
   ]
  },
  {
   "cell_type": "markdown",
   "metadata": {},
   "source": [
    "Generage in-game information relative to home team"
   ]
  },
  {
   "cell_type": "code",
   "execution_count": null,
   "metadata": {},
   "outputs": [],
   "source": [
    "# can use numpy where command\n",
    "dh['homeScore'] = dh.apply(lambda x: x['tgoals'] if x['isthome'] == 1 else x['ogoals'], axis=1)\n",
    "dh['awayScore'] = dh.apply(lambda x: x['tgoals'] if x['isthome'] == 0 else x['ogoals'], axis=1)\n",
    "dh['homeSM']    = dh['homeScore'] - dh['awayScore']\n",
    "dh['homeWin'] = dh.apply(lambda x: 1 if x['winteamcode'] == x['hteamcode'] else 0, axis=1)\n",
    "dh.head()"
   ]
  },
  {
   "cell_type": "code",
   "execution_count": null,
   "metadata": {},
   "outputs": [],
   "source": [
    "dh.head(20)"
   ]
  },
  {
   "cell_type": "markdown",
   "metadata": {},
   "source": [
    "Create game-minute observations"
   ]
  },
  {
   "cell_type": "code",
   "execution_count": null,
   "metadata": {},
   "outputs": [],
   "source": [
    "dm = pandas.DataFrame(dh.groupby(['gamenumber', 'minStart'], axis=0, as_index=False).first())\n",
    "dm = dm[dm['minStart']!=0]\n",
    "dm = dm[dm['period']<=3]\n",
    "dm.head(20)"
   ]
  },
  {
   "cell_type": "markdown",
   "metadata": {},
   "source": [
    "Calculate team win percentages by date for game specific priors"
   ]
  },
  {
   "cell_type": "code",
   "execution_count": null,
   "metadata": {},
   "outputs": [],
   "source": [
    "dr = pandas.DataFrame()\n",
    "ds = dh[['gamedate', 'gamenumber', 'hteamcode', 'vteamcode', 'winteamcode', 'isOTWin', 'isSOWin']].groupby(['gamenumber'], as_index=False).first()\n",
    "teamList = ds['hteamcode'].unique()\n",
    "teamList"
   ]
  },
  {
   "cell_type": "markdown",
   "metadata": {},
   "source": [
    "For loop to calclulate winning percentage prior to game"
   ]
  },
  {
   "cell_type": "code",
   "execution_count": null,
   "metadata": {},
   "outputs": [],
   "source": [
    "for team in teamList:\n",
    "    du = ds[(ds['hteamcode'] == team) | (ds['vteamcode'] == team)].copy()\n",
    "    du.loc[::,'team'] = team\n",
    "    du.loc[::,'wins']   = du.apply(lambda x: 1 if x['winteamcode'] == team else 0, axis=1).shift(1).cumsum()\n",
    "    du.loc[::,'loss']   = du.apply(lambda x: 1 if x['winteamcode'] != team else 0, axis=1).shift(1).cumsum()\n",
    "    dr = dr.append(du)\n",
    "    print ('completed loop for ' + team)\n",
    "dr.loc[::, 'winPer'] = dr['wins'] /(dr['wins'] + dr['loss'])"
   ]
  },
  {
   "cell_type": "code",
   "execution_count": null,
   "metadata": {},
   "outputs": [],
   "source": [
    "dr.head(20)"
   ]
  },
  {
   "cell_type": "code",
   "execution_count": null,
   "metadata": {},
   "outputs": [],
   "source": [
    "# merge \n",
    "dr = dr[['gamenumber', 'team', 'winPer']]\n",
    "dm = pandas.merge(dm,dr,left_on=['gamenumber', 'hteamcode'], right_on=['gamenumber', 'team'])\n",
    "dm = dm.rename(columns={'winPer':'homeWinPer'})\n",
    "dm = pandas.merge(dm,dr,left_on=['gamenumber', 'vteamcode'], right_on=['gamenumber', 'team'])\n",
    "dm = dm.rename(columns={'winPer':'awayWinPer'})\n",
    "dm = dm.drop(['team_x', 'team_y'], axis=1)\n",
    "\n",
    "dm.head(2)\n",
    "# completed minute-level data'"
   ]
  },
  {
   "cell_type": "markdown",
   "metadata": {},
   "source": [
    "## Score margin summary analysis"
   ]
  },
  {
   "cell_type": "code",
   "execution_count": null,
   "metadata": {},
   "outputs": [],
   "source": [
    "ds = pandas.DataFrame()\n",
    "ds['trDScLaActu'] = dm[dm['homeWin']==1].groupby(['minStart'])['homeSM'].agg({'mean' : numpy.mean})\n",
    "ds['faDScLaActu'] = dm[dm['homeWin']==0].groupby(['minStart'])['homeSM'].agg({'mean' : numpy.mean})\n",
    "ds = ds.dropna(axis=0)\n",
    "DS = ds.copy(); del ds\n",
    "DS.head()"
   ]
  },
  {
   "cell_type": "markdown",
   "metadata": {},
   "source": [
    "## Plot mean inverse conditionals"
   ]
  },
  {
   "cell_type": "code",
   "execution_count": null,
   "metadata": {},
   "outputs": [],
   "source": [
    "# create index to plot\n",
    "ds = DS.copy()\n",
    "ds = ds.reset_index()\n",
    "ds = ds.rename(columns={'index' : 'minStart'})\n",
    "ds = ds[ds['minStart']!=0]\n",
    "\n",
    "# line plot\n",
    "tempName = 'condLeagueScoreMarginsActu.pdf'\n",
    "tempFile = os.path.join(tempName)\n",
    "\n",
    "fig, ax0 = plt.subplots(facecolor='white')\n",
    "ax0.plot(ds.index, ds['trDScLaActu'], label='Actual'  , marker='', linestyle='-', linewidth=1, color='black')\n",
    "ax0.plot(ds.index, ds['faDScLaActu'], label='', marker='', linestyle='-', linewidth=1, color='black')\n",
    "ax0.set_title('', fontsize=8)\n",
    "ax0.set_xlabel('Minutes from start of game', fontsize=8)\n",
    "ax0.tick_params(axis='both', labelsize=8)\n",
    "ax0.set_ylabel('Home team score-margin', fontsize=8)\n",
    "ax0.set_ylim([-3, 3])\n",
    "ax0.axhline(y=0,xmin=0,xmax=60,c=\"black\",linewidth=1.0, linestyle='-', zorder=0)\n",
    "legend = ax0.legend(loc='lower left', shadow=False, fontsize=8, frameon=False)\n",
    "ax0.text(40,2.5, 'Home team wins', fontsize=10)\n",
    "ax0.text(40,-2.5, 'Home team losses', fontsize=10)\n",
    "fig.suptitle(\"Game progression average score-margins\", fontsize=10)\n",
    "plt.savefig(tempFile)\n",
    "# plt.close('all')\n",
    "plt.plot()"
   ]
  },
  {
   "cell_type": "markdown",
   "metadata": {},
   "source": [
    "## Estimation procedure\n",
    "* Estimate inverse conditional probabilities; p(HSM|TR)"
   ]
  },
  {
   "cell_type": "code",
   "execution_count": null,
   "metadata": {
    "collapsed": true
   },
   "outputs": [],
   "source": [
    "# adjust score margin states\n",
    "dm['homeSM'] = dm.apply(lambda x: 3  if x['homeSM'] > 3 else  x['homeSM'], axis=1)\n",
    "dm['homeSM'] = dm.apply(lambda x: -3 if x['homeSM'] < -3 else x['homeSM'], axis=1)\n",
    "dm['homeSM'].describe()\n",
    "\n",
    "# create win and lose specific data sets\n",
    "dw = dm[dm['homeWin']==1]\n",
    "dl = dm[dm['homeWin']==0]"
   ]
  },
  {
   "cell_type": "markdown",
   "metadata": {},
   "source": [
    "### Multinomial Logitisitc regression"
   ]
  },
  {
   "cell_type": "code",
   "execution_count": null,
   "metadata": {},
   "outputs": [],
   "source": [
    "trMNL   = sm.MNLogit(dw['homeSM'], sm.add_constant(dw['minStart'])).fit()\n",
    "trMNL.summary()"
   ]
  },
  {
   "cell_type": "code",
   "execution_count": null,
   "metadata": {},
   "outputs": [],
   "source": [
    "faMNL   = sm.MNLogit(dl['homeSM'], sm.add_constant(dl['minStart'])).fit()\n",
    "faMNL.summary()"
   ]
  },
  {
   "cell_type": "markdown",
   "metadata": {},
   "source": [
    "### Predict probabilities of score states"
   ]
  },
  {
   "cell_type": "code",
   "execution_count": null,
   "metadata": {
    "collapsed": true
   },
   "outputs": [],
   "source": [
    "de1 = pandas.DataFrame(trMNL.predict(sm.add_constant(dm['minStart'])))\n",
    "de0 = pandas.DataFrame(faMNL.predict(sm.add_constant(dm['minStart'])))\n",
    "# de0.head(10)"
   ]
  },
  {
   "cell_type": "code",
   "execution_count": null,
   "metadata": {},
   "outputs": [],
   "source": [
    "de = de1/de0\n",
    "de.head()"
   ]
  },
  {
   "cell_type": "code",
   "execution_count": null,
   "metadata": {},
   "outputs": [],
   "source": [
    "# change column names to be consistent with score states\n",
    "de.columns = de.columns - 3\n",
    "de.head()"
   ]
  },
  {
   "cell_type": "markdown",
   "metadata": {},
   "source": [
    "Merge inverse conditional data frames"
   ]
  },
  {
   "cell_type": "code",
   "execution_count": null,
   "metadata": {},
   "outputs": [],
   "source": [
    "dn = pandas.merge(dm, de, left_index=True,right_index=True)\n",
    "dn.head(20)"
   ]
  },
  {
   "cell_type": "code",
   "execution_count": null,
   "metadata": {},
   "outputs": [],
   "source": [
    "## obtained game-minute specific inverse conditional\n",
    "dm = dn.copy()\n",
    "# create indicator variables\n",
    "dm['d3'] = dm.apply(lambda x: 1 if x['homeSM']==-3 else 0, axis=1)\n",
    "dm['d2'] = dm.apply(lambda x: 1 if x['homeSM']==-2 else 0, axis=1)\n",
    "dm['d1'] = dm.apply(lambda x: 1 if x['homeSM']==-1 else 0, axis=1)\n",
    "dm['ti'] = dm.apply(lambda x: 1 if x['homeSM']==0  else 0, axis=1)\n",
    "dm['u1'] = dm.apply(lambda x: 1 if x['homeSM']==1  else 0, axis=1)\n",
    "dm['u2'] = dm.apply(lambda x: 1 if x['homeSM']==2  else 0, axis=1)\n",
    "dm['u3'] = dm.apply(lambda x: 1 if x['homeSM']==3  else 0, axis=1)\n",
    "dm.head(20)"
   ]
  },
  {
   "cell_type": "code",
   "execution_count": null,
   "metadata": {},
   "outputs": [],
   "source": [
    "# multiple inverse conditionals and indicators\n",
    "dm['invCond']      = dm['d3']*dm[-3] + dm['d2']*dm[-2] + dm['d1']*dm[-1] + dm['ti']*dm[0] + dm['u1']*dm[1] + dm['u2']*dm[2] + dm['u3']*dm[3]\n",
    "dm.head()"
   ]
  },
  {
   "cell_type": "code",
   "execution_count": null,
   "metadata": {},
   "outputs": [],
   "source": [
    "# set prior odds and probabilities\n",
    "dm['priorProb']     = (dm['homeWinPer'] / (dm['homeWinPer'] + dm['awayWinPer'])).fillna(0.5)\n",
    "dm['priorOdds']     = (dm['homeWinPer'] / dm['awayWinPer']).fillna(1.0)\n",
    "dm.head(2)"
   ]
  },
  {
   "cell_type": "markdown",
   "metadata": {},
   "source": [
    "Calculate posterior odds and probabilities (Bayes Rule)"
   ]
  },
  {
   "cell_type": "code",
   "execution_count": null,
   "metadata": {},
   "outputs": [],
   "source": [
    "dm['postOdds']      =  dm['priorOdds'] * dm['invCond']\n",
    "dm['postProb']      =  dm['postOdds'] / (1 + dm['postOdds'])\n",
    "dm.head(10)"
   ]
  },
  {
   "cell_type": "markdown",
   "metadata": {},
   "source": [
    "Game-specific plot of in-game win probabilities"
   ]
  },
  {
   "cell_type": "code",
   "execution_count": null,
   "metadata": {},
   "outputs": [],
   "source": [
    "# set gamenumber\n",
    "d1 = dm[dm['gamenumber']==20801]\n",
    "print(len(d1))\n",
    "d1[['gamenumber', 'minStart', 'homeSM', 'priorProb', 'postProb' ]].head()"
   ]
  },
  {
   "cell_type": "code",
   "execution_count": null,
   "metadata": {},
   "outputs": [],
   "source": [
    "print (\"date, away team, home team\")\n",
    "print (d1.iloc[0]['gamedate'])\n",
    "print (d1.iloc[0]['vteamcode'])\n",
    "print (d1.iloc[0]['hteamcode'])\n",
    "d1.head()"
   ]
  },
  {
   "cell_type": "code",
   "execution_count": null,
   "metadata": {
    "scrolled": false
   },
   "outputs": [],
   "source": [
    "# plot \n",
    "plt.rc('axes', grid=False)\n",
    "\n",
    "width = 0.001\n",
    "space = width + 0.10\n",
    "left, width = 0.1, 0.8\n",
    "rect1 = [left, 0.4, width, 0.5]\n",
    "rect2 = [left, 0.1, width, 0.2]\n",
    "\n",
    "fig = plt.figure(facecolor='white')\n",
    "ax1 = fig.add_axes(rect1, facecolor='white')\n",
    "ax2 = fig.add_axes(rect2, facecolor='white', sharex=ax1)\n",
    "\n",
    "ax1.tick_params(axis='y', labelsize=8)\n",
    "ax1.tick_params(axis='x', labelsize=8)\n",
    "ax2.tick_params(axis='y', labelsize=8)\n",
    "ax2.tick_params(axis='x', labelsize=8)\n",
    "ax1.set_ylim([0,1])\n",
    "ax2.set_ylim([-6,6])\n",
    "ax1.set_xlim([0,60])\n",
    "\n",
    "# ig.suptitle(gameTitle, fontsize=12)\n",
    "ax1.set_title(\"Game progression win probabilities\", fontsize=12)\n",
    "ax1.set_ylabel('Home team win probability', fontsize=8)\n",
    "ax2.set_title('Game state information', fontsize=10, multialignment='center')\n",
    "ax2.set_ylabel('Home team score-margin', fontsize=8, multialignment='center')\n",
    "ax2.set_xlabel('Minutes from start of the game.', fontsize=8)\n",
    "\n",
    "# plot lines\n",
    "ax1.plot(d1['minStart'], d1['postProb']  , marker='', linestyle='-' , linewidth=2, color='black',  label='Home team win probability')\n",
    "ax1.axhline(y=.5 ,c=\"black\",linewidth=0.25, linestyle='--', zorder=0)\n",
    "ax2.plot(d1.minStart, d1.homeSM, '.', linewidth=0.5, color='black')\n",
    "\n",
    "legend = ax1.legend(loc='lower left', shadow=False, fontsize=6, frameon=False)\n",
    "\n",
    "# save figure\n",
    "plt.savefig(\"gn500.pdf\", format='pdf')\n",
    "# plt.close('all')\n",
    "plt.show()"
   ]
  },
  {
   "cell_type": "markdown",
   "metadata": {},
   "source": [
    "## complete"
   ]
  },
  {
   "cell_type": "markdown",
   "metadata": {},
   "source": [
    "### Done"
   ]
  }
 ],
 "metadata": {
  "anaconda-cloud": {},
  "kernelspec": {
   "display_name": "Python [default]",
   "language": "python",
   "name": "python3"
  },
  "language_info": {
   "codemirror_mode": {
    "name": "ipython",
    "version": 3
   },
   "file_extension": ".py",
   "mimetype": "text/x-python",
   "name": "python",
   "nbconvert_exporter": "python",
   "pygments_lexer": "ipython3",
   "version": "3.6.4"
  }
 },
 "nbformat": 4,
 "nbformat_minor": 2
}
