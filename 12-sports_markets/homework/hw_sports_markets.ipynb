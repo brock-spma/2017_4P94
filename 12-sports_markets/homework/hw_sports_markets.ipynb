{
 "cells": [
  {
   "cell_type": "markdown",
   "metadata": {},
   "source": [
    "# Homework\n",
    "\n",
    "1. Distribution analysis\n",
    "    - Use histograms to examine the distribution of MLB, NBA, and NFL player salaries\n",
    "    - Are the distributions similar? If not, explain any differences in words\n",
    "\n",
    "2. Salary comparasons across leagues\n",
    "    - Which league do players, on average, have the highest salaries? \n",
    "    - Calculate the avearge (mean)  MLB, NBA, and NFL player salary\n",
    "    \n",
    "3. Salary comparasons across positions\n",
    "    - What position do MLB players, on average, have the highest salaries? \n",
    "    - What position do NFL players, on average, have the highest salaries? \n",
    "    - What position do NBA players, on average, have the highest salaries? \n",
    "\n",
    "\n",
    "### Instructions\n",
    "* Present complete solutions\n",
    "* Present well-document code\n",
    "* See Github for grading rubric \n",
    "  * Grades are based on the quality of analysis as well as presentation and code development\n",
    "* Add cells below each question to supply answers"
   ]
  },
  {
   "cell_type": "markdown",
   "metadata": {},
   "source": [
    "Distribution analysis\n",
    "    - Use histograms to examine the distribution of MLB, NBA, and NFL player salaries\n",
    "    - Are the distributions similar? If not, explain any differences in words"
   ]
  },
  {
   "cell_type": "markdown",
   "metadata": {},
   "source": [
    "Salary comparasons across leagues\n",
    "    - Which league do players, on average, have the highest salaries? \n",
    "    - Calculate the avearge (mean)  MLB, NBA, and NFL player salary"
   ]
  },
  {
   "cell_type": "markdown",
   "metadata": {},
   "source": [
    "Salary comparasons across positions\n",
    "    - What position do MLB players, on average, have the highest salaries? \n",
    "    - What position do NFL players, on average, have the highest salaries? \n",
    "    - What position do NBA players, on average, have the highest salaries? "
   ]
  },
  {
   "cell_type": "code",
   "execution_count": null,
   "metadata": {
    "collapsed": true
   },
   "outputs": [],
   "source": []
  }
 ],
 "metadata": {
  "anaconda-cloud": {},
  "kernelspec": {
   "display_name": "Python 3",
   "language": "python",
   "name": "python3"
  },
  "language_info": {
   "codemirror_mode": {
    "name": "ipython",
    "version": 3
   },
   "file_extension": ".py",
   "mimetype": "text/x-python",
   "name": "python",
   "nbconvert_exporter": "python",
   "pygments_lexer": "ipython3",
   "version": "3.6.3"
  }
 },
 "nbformat": 4,
 "nbformat_minor": 1
}
